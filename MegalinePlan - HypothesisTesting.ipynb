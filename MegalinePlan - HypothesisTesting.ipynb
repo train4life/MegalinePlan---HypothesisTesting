{
 "cells": [
  {
   "cell_type": "markdown",
   "metadata": {},
   "source": [
    "Hello Christopher!\n",
    "\n",
    "My name is Dmitry.  I'm glad to review your work today.\n",
    "I will mark your mistakes and give you some hints how it is possible to fix them. We are getting ready for real job, where your team leader/senior colleague will do exactly the same. Don't worry and study with pleasure! \n",
    "\n",
    "Below you will find my comments - **please do not move, modify or delete them**.\n",
    "\n",
    "You can find my comments in green, yellow or red boxes like this:\n",
    "\n",
    "<div class=\"alert alert-block alert-success\">\n",
    "<b>Reviewer's comment</b> <a class=\"tocSkip\"></a>\n",
    "\n",
    "Success. Everything is done succesfully.\n",
    "</div>\n",
    "\n",
    "<div class=\"alert alert-block alert-warning\">\n",
    "<b>Reviewer's comment</b> <a class=\"tocSkip\"></a>\n",
    "\n",
    "Remarks. Some recommendations.\n",
    "</div>\n",
    "\n",
    "<div class=\"alert alert-block alert-danger\">\n",
    "\n",
    "<b>Reviewer's comment</b> <a class=\"tocSkip\"></a>\n",
    "\n",
    "Needs fixing. The block requires some corrections. Work can't be accepted with the red comments.\n",
    "</div>\n",
    "\n",
    "You can answer me by using this:\n",
    "\n",
    "<div class=\"alert alert-block alert-info\">\n",
    "<b>Student answer.</b> <a class=\"tocSkip\"></a>\n",
    "\n",
    "Text here.\n",
    "</div>"
   ]
  },
  {
   "cell_type": "markdown",
   "metadata": {},
   "source": [
    "# Which one is a better plan?\n",
    "\n",
    "You work as an analyst for the telecom operator Megaline. The company offers its clients two prepaid plans, Surf and Ultimate. The commercial department wants to know which of the plans brings in more revenue in order to adjust the advertising budget.\n",
    "\n",
    "You are going to carry out a preliminary analysis of the plans based on a relatively small client selection. You'll have the data on 500 Megaline clients: who the clients are, where they're from, which plan they use, and the number of calls they made and text messages they sent in 2018. Your job is to analyze the clients' behavior and determine which prepaid plan brings in more revenue."
   ]
  },
  {
   "cell_type": "markdown",
   "metadata": {},
   "source": [
    "[We've provided you with some commentary to guide your thinking as you complete this project. However, make sure to remove all the bracketed comments before submitting your project.]\n",
    "\n",
    "[Before you dive into analyzing your data, explain for yourself the purpose of the project and actions you plan to take.]\n",
    "\n",
    "[Please bear in mind that studying, amending, and analyzing data is an iterative process. It is normal to return to previous steps and correct/expand them to allow for further steps.]"
   ]
  },
  {
   "cell_type": "markdown",
   "metadata": {},
   "source": [
    "### The goal of my analysis is to analyze client's behavior and determine which prepaid plan brings in more revenue for the company. "
   ]
  },
  {
   "cell_type": "markdown",
   "metadata": {},
   "source": [
    "## Initialization"
   ]
  },
  {
   "cell_type": "markdown",
   "metadata": {},
   "source": []
  },
  {
   "cell_type": "markdown",
   "metadata": {},
   "source": [
    "### Importing Libraries "
   ]
  },
  {
   "cell_type": "code",
   "execution_count": 1,
   "metadata": {},
   "outputs": [],
   "source": [
    "# Loading all the libraries\n",
    "import pandas as pd\n",
    "import numpy as np\n",
    "import matplotlib.pyplot as plt\n",
    "import math\n",
    "from scipy import stats as st\n"
   ]
  },
  {
   "cell_type": "markdown",
   "metadata": {},
   "source": [
    "## Load data"
   ]
  },
  {
   "cell_type": "markdown",
   "metadata": {},
   "source": [
    "### Loading Dataframes "
   ]
  },
  {
   "cell_type": "markdown",
   "metadata": {},
   "source": []
  },
  {
   "cell_type": "code",
   "execution_count": 2,
   "metadata": {
    "scrolled": true
   },
   "outputs": [],
   "source": [
    "# Load the data files into different DataFrames\n",
    "# megaline_calls = pd.read_csv('chapter_3_csvs\\megaline_calls.csv')\n",
    "# megaline_internet = pd.read_csv('chapter_3_csvs\\megaline_internet.csv')\n",
    "# megaline_messages = pd.read_csv('chapter_3_csvs\\megaline_messages.csv')\n",
    "# megaline_plans = pd.read_csv('chapter_3_csvs\\megaline_plans.csv')\n",
    "# megaline_users = pd.read_csv('chapter_3_csvs\\megaline_users.csv')\n",
    "\n",
    "# fix by reviewer\n",
    "megaline_calls = pd.read_csv('/datasets/megaline_calls.csv')\n",
    "megaline_internet = pd.read_csv('/datasets/megaline_internet.csv')\n",
    "megaline_messages = pd.read_csv('/datasets/megaline_messages.csv')\n",
    "megaline_plans = pd.read_csv('/datasets/megaline_plans.csv')\n",
    "megaline_users = pd.read_csv('/datasets/megaline_users.csv')"
   ]
  },
  {
   "cell_type": "markdown",
   "metadata": {},
   "source": [
    "<div class=\"alert alert-block alert-warning\">\n",
    "<b>Reviewer's comment</b> <a class=\"tocSkip\"></a>\n",
    "\n",
    "Be careful with datasets paths! It's a good practice to use try-except construction.\n",
    "</div>"
   ]
  },
  {
   "cell_type": "markdown",
   "metadata": {},
   "source": [
    "<div class=\"alert alert-block alert-info\">\n",
    "<b>Can you explain more about the issues that can arise from doing what I did? I know how to use the try-except but I'm curious about the why.<b> <a class=\"tocSkip\"></a>\n",
    "\n",
    "</div>"
   ]
  },
  {
   "cell_type": "markdown",
   "metadata": {},
   "source": [
    "<div class=\"alert alert-block alert-warning\">\n",
    "<b>Reviewer's comment</b> <a class=\"tocSkip\"></a>\n",
    "\n",
    "Ok. Reviewers often do not have local files and we use virtual machines in remote servers. Thus we need paths like \"/datasets\" =)\n",
    "</div>"
   ]
  },
  {
   "cell_type": "markdown",
   "metadata": {},
   "source": [
    "### Megaline Calls Dataframe"
   ]
  },
  {
   "cell_type": "code",
   "execution_count": 3,
   "metadata": {},
   "outputs": [
    {
     "data": {
      "text/html": [
       "<div>\n",
       "<style scoped>\n",
       "    .dataframe tbody tr th:only-of-type {\n",
       "        vertical-align: middle;\n",
       "    }\n",
       "\n",
       "    .dataframe tbody tr th {\n",
       "        vertical-align: top;\n",
       "    }\n",
       "\n",
       "    .dataframe thead th {\n",
       "        text-align: right;\n",
       "    }\n",
       "</style>\n",
       "<table border=\"1\" class=\"dataframe\">\n",
       "  <thead>\n",
       "    <tr style=\"text-align: right;\">\n",
       "      <th></th>\n",
       "      <th>id</th>\n",
       "      <th>user_id</th>\n",
       "      <th>call_date</th>\n",
       "      <th>duration</th>\n",
       "    </tr>\n",
       "  </thead>\n",
       "  <tbody>\n",
       "    <tr>\n",
       "      <th>0</th>\n",
       "      <td>1000_93</td>\n",
       "      <td>1000</td>\n",
       "      <td>2018-12-27</td>\n",
       "      <td>8.52</td>\n",
       "    </tr>\n",
       "    <tr>\n",
       "      <th>1</th>\n",
       "      <td>1000_145</td>\n",
       "      <td>1000</td>\n",
       "      <td>2018-12-27</td>\n",
       "      <td>13.66</td>\n",
       "    </tr>\n",
       "    <tr>\n",
       "      <th>2</th>\n",
       "      <td>1000_247</td>\n",
       "      <td>1000</td>\n",
       "      <td>2018-12-27</td>\n",
       "      <td>14.48</td>\n",
       "    </tr>\n",
       "    <tr>\n",
       "      <th>3</th>\n",
       "      <td>1000_309</td>\n",
       "      <td>1000</td>\n",
       "      <td>2018-12-28</td>\n",
       "      <td>5.76</td>\n",
       "    </tr>\n",
       "    <tr>\n",
       "      <th>4</th>\n",
       "      <td>1000_380</td>\n",
       "      <td>1000</td>\n",
       "      <td>2018-12-30</td>\n",
       "      <td>4.22</td>\n",
       "    </tr>\n",
       "  </tbody>\n",
       "</table>\n",
       "</div>"
      ],
      "text/plain": [
       "         id  user_id   call_date  duration\n",
       "0   1000_93     1000  2018-12-27      8.52\n",
       "1  1000_145     1000  2018-12-27     13.66\n",
       "2  1000_247     1000  2018-12-27     14.48\n",
       "3  1000_309     1000  2018-12-28      5.76\n",
       "4  1000_380     1000  2018-12-30      4.22"
      ]
     },
     "execution_count": 3,
     "metadata": {},
     "output_type": "execute_result"
    }
   ],
   "source": [
    "megaline_calls.head()"
   ]
  },
  {
   "cell_type": "code",
   "execution_count": 4,
   "metadata": {
    "scrolled": true
   },
   "outputs": [
    {
     "name": "stdout",
     "output_type": "stream",
     "text": [
      "<class 'pandas.core.frame.DataFrame'>\n",
      "RangeIndex: 137735 entries, 0 to 137734\n",
      "Data columns (total 4 columns):\n",
      " #   Column     Non-Null Count   Dtype  \n",
      "---  ------     --------------   -----  \n",
      " 0   id         137735 non-null  object \n",
      " 1   user_id    137735 non-null  int64  \n",
      " 2   call_date  137735 non-null  object \n",
      " 3   duration   137735 non-null  float64\n",
      "dtypes: float64(1), int64(1), object(2)\n",
      "memory usage: 4.2+ MB\n"
     ]
    }
   ],
   "source": [
    "megaline_calls.info()\n",
    "\n",
    "### The call_date needs to be converted from a string to a datetime. \n",
    "### The float of the duration needs to be converted to an integer and rounded up since the company\n",
    "### rounds seconds up to minutes."
   ]
  },
  {
   "cell_type": "markdown",
   "metadata": {},
   "source": [
    "#### Converting duration of calls to ints and rounding them up using np.ceil."
   ]
  },
  {
   "cell_type": "code",
   "execution_count": 5,
   "metadata": {},
   "outputs": [
    {
     "name": "stdout",
     "output_type": "stream",
     "text": [
      "<class 'pandas.core.frame.DataFrame'>\n",
      "RangeIndex: 137735 entries, 0 to 137734\n",
      "Data columns (total 4 columns):\n",
      " #   Column     Non-Null Count   Dtype \n",
      "---  ------     --------------   ----- \n",
      " 0   id         137735 non-null  object\n",
      " 1   user_id    137735 non-null  int64 \n",
      " 2   call_date  137735 non-null  object\n",
      " 3   duration   137735 non-null  int64 \n",
      "dtypes: int64(2), object(2)\n",
      "memory usage: 4.2+ MB\n"
     ]
    }
   ],
   "source": [
    "megaline_calls['duration'] = megaline_calls['duration'].apply(np.ceil)\n",
    "megaline_calls['duration'] = megaline_calls['duration'].astype('int')\n",
    "megaline_calls.info()"
   ]
  },
  {
   "cell_type": "markdown",
   "metadata": {},
   "source": [
    "#### Call_date needed to be converted into a datetime and the duration needs to be converted to an integer that rounds up. "
   ]
  },
  {
   "cell_type": "markdown",
   "metadata": {},
   "source": [
    "#### Converting call_date from string to datetime. "
   ]
  },
  {
   "cell_type": "code",
   "execution_count": 6,
   "metadata": {},
   "outputs": [
    {
     "name": "stdout",
     "output_type": "stream",
     "text": [
      "<class 'pandas.core.frame.DataFrame'>\n",
      "RangeIndex: 137735 entries, 0 to 137734\n",
      "Data columns (total 4 columns):\n",
      " #   Column     Non-Null Count   Dtype         \n",
      "---  ------     --------------   -----         \n",
      " 0   id         137735 non-null  object        \n",
      " 1   user_id    137735 non-null  int64         \n",
      " 2   call_date  137735 non-null  datetime64[ns]\n",
      " 3   duration   137735 non-null  int64         \n",
      "dtypes: datetime64[ns](1), int64(2), object(1)\n",
      "memory usage: 4.2+ MB\n"
     ]
    }
   ],
   "source": [
    "megaline_calls['call_date'] = megaline_calls['call_date'].astype('datetime64[ns]')\n",
    "megaline_calls.info()\n"
   ]
  },
  {
   "cell_type": "markdown",
   "metadata": {},
   "source": [
    "### Megaline Internet Dataframe"
   ]
  },
  {
   "cell_type": "code",
   "execution_count": 7,
   "metadata": {},
   "outputs": [
    {
     "data": {
      "text/html": [
       "<div>\n",
       "<style scoped>\n",
       "    .dataframe tbody tr th:only-of-type {\n",
       "        vertical-align: middle;\n",
       "    }\n",
       "\n",
       "    .dataframe tbody tr th {\n",
       "        vertical-align: top;\n",
       "    }\n",
       "\n",
       "    .dataframe thead th {\n",
       "        text-align: right;\n",
       "    }\n",
       "</style>\n",
       "<table border=\"1\" class=\"dataframe\">\n",
       "  <thead>\n",
       "    <tr style=\"text-align: right;\">\n",
       "      <th></th>\n",
       "      <th>id</th>\n",
       "      <th>user_id</th>\n",
       "      <th>session_date</th>\n",
       "      <th>mb_used</th>\n",
       "    </tr>\n",
       "  </thead>\n",
       "  <tbody>\n",
       "    <tr>\n",
       "      <th>0</th>\n",
       "      <td>1000_13</td>\n",
       "      <td>1000</td>\n",
       "      <td>2018-12-29</td>\n",
       "      <td>89.86</td>\n",
       "    </tr>\n",
       "    <tr>\n",
       "      <th>1</th>\n",
       "      <td>1000_204</td>\n",
       "      <td>1000</td>\n",
       "      <td>2018-12-31</td>\n",
       "      <td>0.00</td>\n",
       "    </tr>\n",
       "    <tr>\n",
       "      <th>2</th>\n",
       "      <td>1000_379</td>\n",
       "      <td>1000</td>\n",
       "      <td>2018-12-28</td>\n",
       "      <td>660.40</td>\n",
       "    </tr>\n",
       "    <tr>\n",
       "      <th>3</th>\n",
       "      <td>1000_413</td>\n",
       "      <td>1000</td>\n",
       "      <td>2018-12-26</td>\n",
       "      <td>270.99</td>\n",
       "    </tr>\n",
       "    <tr>\n",
       "      <th>4</th>\n",
       "      <td>1000_442</td>\n",
       "      <td>1000</td>\n",
       "      <td>2018-12-27</td>\n",
       "      <td>880.22</td>\n",
       "    </tr>\n",
       "  </tbody>\n",
       "</table>\n",
       "</div>"
      ],
      "text/plain": [
       "         id  user_id session_date  mb_used\n",
       "0   1000_13     1000   2018-12-29    89.86\n",
       "1  1000_204     1000   2018-12-31     0.00\n",
       "2  1000_379     1000   2018-12-28   660.40\n",
       "3  1000_413     1000   2018-12-26   270.99\n",
       "4  1000_442     1000   2018-12-27   880.22"
      ]
     },
     "execution_count": 7,
     "metadata": {},
     "output_type": "execute_result"
    }
   ],
   "source": [
    "megaline_internet.head()"
   ]
  },
  {
   "cell_type": "code",
   "execution_count": 8,
   "metadata": {},
   "outputs": [
    {
     "name": "stdout",
     "output_type": "stream",
     "text": [
      "<class 'pandas.core.frame.DataFrame'>\n",
      "RangeIndex: 104825 entries, 0 to 104824\n",
      "Data columns (total 4 columns):\n",
      " #   Column        Non-Null Count   Dtype  \n",
      "---  ------        --------------   -----  \n",
      " 0   id            104825 non-null  object \n",
      " 1   user_id       104825 non-null  int64  \n",
      " 2   session_date  104825 non-null  object \n",
      " 3   mb_used       104825 non-null  float64\n",
      "dtypes: float64(1), int64(1), object(2)\n",
      "memory usage: 3.2+ MB\n"
     ]
    }
   ],
   "source": [
    "megaline_internet.info()\n",
    "### Need to convert session_date to a datetime instead of a string. \n",
    "### The total amount of megabytes used for the month needs to be rounded up to gigabytes."
   ]
  },
  {
   "cell_type": "code",
   "execution_count": 9,
   "metadata": {},
   "outputs": [
    {
     "name": "stdout",
     "output_type": "stream",
     "text": [
      "<class 'pandas.core.frame.DataFrame'>\n",
      "RangeIndex: 104825 entries, 0 to 104824\n",
      "Data columns (total 4 columns):\n",
      " #   Column        Non-Null Count   Dtype         \n",
      "---  ------        --------------   -----         \n",
      " 0   id            104825 non-null  object        \n",
      " 1   user_id       104825 non-null  int64         \n",
      " 2   session_date  104825 non-null  datetime64[ns]\n",
      " 3   mb_used       104825 non-null  float64       \n",
      "dtypes: datetime64[ns](1), float64(1), int64(1), object(1)\n",
      "memory usage: 3.2+ MB\n"
     ]
    }
   ],
   "source": [
    "megaline_internet['session_date'] = megaline_internet['session_date'].astype('datetime64[ns]')\n",
    "megaline_internet.info()"
   ]
  },
  {
   "cell_type": "markdown",
   "metadata": {},
   "source": [
    "### Megaline Messages Dataframe"
   ]
  },
  {
   "cell_type": "code",
   "execution_count": 10,
   "metadata": {
    "scrolled": true
   },
   "outputs": [
    {
     "data": {
      "text/html": [
       "<div>\n",
       "<style scoped>\n",
       "    .dataframe tbody tr th:only-of-type {\n",
       "        vertical-align: middle;\n",
       "    }\n",
       "\n",
       "    .dataframe tbody tr th {\n",
       "        vertical-align: top;\n",
       "    }\n",
       "\n",
       "    .dataframe thead th {\n",
       "        text-align: right;\n",
       "    }\n",
       "</style>\n",
       "<table border=\"1\" class=\"dataframe\">\n",
       "  <thead>\n",
       "    <tr style=\"text-align: right;\">\n",
       "      <th></th>\n",
       "      <th>id</th>\n",
       "      <th>user_id</th>\n",
       "      <th>message_date</th>\n",
       "    </tr>\n",
       "  </thead>\n",
       "  <tbody>\n",
       "    <tr>\n",
       "      <th>0</th>\n",
       "      <td>1000_125</td>\n",
       "      <td>1000</td>\n",
       "      <td>2018-12-27</td>\n",
       "    </tr>\n",
       "    <tr>\n",
       "      <th>1</th>\n",
       "      <td>1000_160</td>\n",
       "      <td>1000</td>\n",
       "      <td>2018-12-31</td>\n",
       "    </tr>\n",
       "    <tr>\n",
       "      <th>2</th>\n",
       "      <td>1000_223</td>\n",
       "      <td>1000</td>\n",
       "      <td>2018-12-31</td>\n",
       "    </tr>\n",
       "    <tr>\n",
       "      <th>3</th>\n",
       "      <td>1000_251</td>\n",
       "      <td>1000</td>\n",
       "      <td>2018-12-27</td>\n",
       "    </tr>\n",
       "    <tr>\n",
       "      <th>4</th>\n",
       "      <td>1000_255</td>\n",
       "      <td>1000</td>\n",
       "      <td>2018-12-26</td>\n",
       "    </tr>\n",
       "  </tbody>\n",
       "</table>\n",
       "</div>"
      ],
      "text/plain": [
       "         id  user_id message_date\n",
       "0  1000_125     1000   2018-12-27\n",
       "1  1000_160     1000   2018-12-31\n",
       "2  1000_223     1000   2018-12-31\n",
       "3  1000_251     1000   2018-12-27\n",
       "4  1000_255     1000   2018-12-26"
      ]
     },
     "execution_count": 10,
     "metadata": {},
     "output_type": "execute_result"
    }
   ],
   "source": [
    "megaline_messages.head()"
   ]
  },
  {
   "cell_type": "markdown",
   "metadata": {},
   "source": [
    "megaline_messages.info()\n"
   ]
  },
  {
   "cell_type": "markdown",
   "metadata": {},
   "source": [
    "#### Need to convert message date to datetime."
   ]
  },
  {
   "cell_type": "code",
   "execution_count": 11,
   "metadata": {},
   "outputs": [
    {
     "name": "stdout",
     "output_type": "stream",
     "text": [
      "<class 'pandas.core.frame.DataFrame'>\n",
      "RangeIndex: 76051 entries, 0 to 76050\n",
      "Data columns (total 3 columns):\n",
      " #   Column        Non-Null Count  Dtype         \n",
      "---  ------        --------------  -----         \n",
      " 0   id            76051 non-null  object        \n",
      " 1   user_id       76051 non-null  int64         \n",
      " 2   message_date  76051 non-null  datetime64[ns]\n",
      "dtypes: datetime64[ns](1), int64(1), object(1)\n",
      "memory usage: 1.7+ MB\n"
     ]
    }
   ],
   "source": [
    "megaline_messages['message_date'] = pd.to_datetime(megaline_messages['message_date'])\n",
    "megaline_messages.info()"
   ]
  },
  {
   "cell_type": "markdown",
   "metadata": {},
   "source": [
    "#### Datetime needs to be converted from a string to datetime so that we can use the dates."
   ]
  },
  {
   "cell_type": "markdown",
   "metadata": {},
   "source": [
    "### Megaline Plans Dataframe"
   ]
  },
  {
   "cell_type": "code",
   "execution_count": 12,
   "metadata": {
    "scrolled": true
   },
   "outputs": [
    {
     "data": {
      "text/html": [
       "<div>\n",
       "<style scoped>\n",
       "    .dataframe tbody tr th:only-of-type {\n",
       "        vertical-align: middle;\n",
       "    }\n",
       "\n",
       "    .dataframe tbody tr th {\n",
       "        vertical-align: top;\n",
       "    }\n",
       "\n",
       "    .dataframe thead th {\n",
       "        text-align: right;\n",
       "    }\n",
       "</style>\n",
       "<table border=\"1\" class=\"dataframe\">\n",
       "  <thead>\n",
       "    <tr style=\"text-align: right;\">\n",
       "      <th></th>\n",
       "      <th>messages_included</th>\n",
       "      <th>mb_per_month_included</th>\n",
       "      <th>minutes_included</th>\n",
       "      <th>usd_monthly_pay</th>\n",
       "      <th>usd_per_gb</th>\n",
       "      <th>usd_per_message</th>\n",
       "      <th>usd_per_minute</th>\n",
       "      <th>plan_name</th>\n",
       "    </tr>\n",
       "  </thead>\n",
       "  <tbody>\n",
       "    <tr>\n",
       "      <th>0</th>\n",
       "      <td>50</td>\n",
       "      <td>15360</td>\n",
       "      <td>500</td>\n",
       "      <td>20</td>\n",
       "      <td>10</td>\n",
       "      <td>0.03</td>\n",
       "      <td>0.03</td>\n",
       "      <td>surf</td>\n",
       "    </tr>\n",
       "    <tr>\n",
       "      <th>1</th>\n",
       "      <td>1000</td>\n",
       "      <td>30720</td>\n",
       "      <td>3000</td>\n",
       "      <td>70</td>\n",
       "      <td>7</td>\n",
       "      <td>0.01</td>\n",
       "      <td>0.01</td>\n",
       "      <td>ultimate</td>\n",
       "    </tr>\n",
       "  </tbody>\n",
       "</table>\n",
       "</div>"
      ],
      "text/plain": [
       "   messages_included  mb_per_month_included  minutes_included  \\\n",
       "0                 50                  15360               500   \n",
       "1               1000                  30720              3000   \n",
       "\n",
       "   usd_monthly_pay  usd_per_gb  usd_per_message  usd_per_minute plan_name  \n",
       "0               20          10             0.03            0.03      surf  \n",
       "1               70           7             0.01            0.01  ultimate  "
      ]
     },
     "execution_count": 12,
     "metadata": {},
     "output_type": "execute_result"
    }
   ],
   "source": [
    "megaline_plans\n",
    "### This dataframe is great the way it is."
   ]
  },
  {
   "cell_type": "code",
   "execution_count": 13,
   "metadata": {},
   "outputs": [
    {
     "name": "stdout",
     "output_type": "stream",
     "text": [
      "<class 'pandas.core.frame.DataFrame'>\n",
      "RangeIndex: 2 entries, 0 to 1\n",
      "Data columns (total 8 columns):\n",
      " #   Column                 Non-Null Count  Dtype  \n",
      "---  ------                 --------------  -----  \n",
      " 0   messages_included      2 non-null      int64  \n",
      " 1   mb_per_month_included  2 non-null      int64  \n",
      " 2   minutes_included       2 non-null      int64  \n",
      " 3   usd_monthly_pay        2 non-null      int64  \n",
      " 4   usd_per_gb             2 non-null      int64  \n",
      " 5   usd_per_message        2 non-null      float64\n",
      " 6   usd_per_minute         2 non-null      float64\n",
      " 7   plan_name              2 non-null      object \n",
      "dtypes: float64(2), int64(5), object(1)\n",
      "memory usage: 256.0+ bytes\n"
     ]
    }
   ],
   "source": [
    "megaline_plans.info()"
   ]
  },
  {
   "cell_type": "markdown",
   "metadata": {},
   "source": [
    "#### Megaline Users Dataframe"
   ]
  },
  {
   "cell_type": "code",
   "execution_count": 14,
   "metadata": {
    "scrolled": false
   },
   "outputs": [],
   "source": [
    "megaline_users.head()\n",
    "ultimate_users = megaline_users[megaline_users['plan'] == 'ultimate']\n",
    "ultimate_users\n",
    "surf_users = megaline_users[megaline_users['plan'] == 'surf']"
   ]
  },
  {
   "cell_type": "code",
   "execution_count": 15,
   "metadata": {
    "scrolled": true
   },
   "outputs": [
    {
     "name": "stdout",
     "output_type": "stream",
     "text": [
      "<class 'pandas.core.frame.DataFrame'>\n",
      "RangeIndex: 500 entries, 0 to 499\n",
      "Data columns (total 8 columns):\n",
      " #   Column      Non-Null Count  Dtype \n",
      "---  ------      --------------  ----- \n",
      " 0   user_id     500 non-null    int64 \n",
      " 1   first_name  500 non-null    object\n",
      " 2   last_name   500 non-null    object\n",
      " 3   age         500 non-null    int64 \n",
      " 4   city        500 non-null    object\n",
      " 5   reg_date    500 non-null    object\n",
      " 6   plan        500 non-null    object\n",
      " 7   churn_date  34 non-null     object\n",
      "dtypes: int64(2), object(6)\n",
      "memory usage: 31.4+ KB\n"
     ]
    }
   ],
   "source": [
    "megaline_users.info()\n",
    "### Convert reg_date into datetime and convert churn date into a datetime. \n",
    "### Convert churn_date into datetime but keep Nulls. The nulls mean that the clients are still with the company.\n",
    "### Since there are only 34 nulls that means that only 34 people have stopped the service to this date. "
   ]
  },
  {
   "cell_type": "markdown",
   "metadata": {},
   "source": [
    "#### Converting reg_date and churn_date to datetime datetypes."
   ]
  },
  {
   "cell_type": "code",
   "execution_count": 16,
   "metadata": {},
   "outputs": [
    {
     "name": "stdout",
     "output_type": "stream",
     "text": [
      "<class 'pandas.core.frame.DataFrame'>\n",
      "RangeIndex: 500 entries, 0 to 499\n",
      "Data columns (total 8 columns):\n",
      " #   Column      Non-Null Count  Dtype         \n",
      "---  ------      --------------  -----         \n",
      " 0   user_id     500 non-null    int64         \n",
      " 1   first_name  500 non-null    object        \n",
      " 2   last_name   500 non-null    object        \n",
      " 3   age         500 non-null    int64         \n",
      " 4   city        500 non-null    object        \n",
      " 5   reg_date    500 non-null    datetime64[ns]\n",
      " 6   plan        500 non-null    object        \n",
      " 7   churn_date  34 non-null     datetime64[ns]\n",
      "dtypes: datetime64[ns](2), int64(2), object(4)\n",
      "memory usage: 31.4+ KB\n"
     ]
    }
   ],
   "source": [
    "megaline_users['reg_date'] = pd.to_datetime(megaline_users['reg_date'])\n",
    "megaline_users['churn_date'] = pd.to_datetime(megaline_users['churn_date'], errors = 'coerce')\n",
    "megaline_users.info()"
   ]
  },
  {
   "cell_type": "markdown",
   "metadata": {},
   "source": [
    "<div class=\"alert alert-block alert-warning\">\n",
    "<b>Reviewer's comment</b> <a class=\"tocSkip\"></a>\n",
    "\n",
    "Good initial review. However, it's a good practice to check for duplicates also.\n",
    "</div>"
   ]
  },
  {
   "cell_type": "markdown",
   "metadata": {},
   "source": [
    "#### Needed to convert both reg_date and churn_date to datetime types to be able to work with the dates. "
   ]
  },
  {
   "cell_type": "markdown",
   "metadata": {},
   "source": [
    "#### Showing the current users to total users ratio for the company."
   ]
  },
  {
   "cell_type": "code",
   "execution_count": 17,
   "metadata": {},
   "outputs": [
    {
     "name": "stdout",
     "output_type": "stream",
     "text": [
      "The current amount of users is 466 users out of 500 total users.\n"
     ]
    }
   ],
   "source": [
    "current_users = len(megaline_users[megaline_users['churn_date'].isnull()])\n",
    "print(f\"The current amount of users is {current_users} users out of 500 total users.\")"
   ]
  },
  {
   "cell_type": "markdown",
   "metadata": {},
   "source": [
    "#### The null data should be left alone because it gives us a total amount of users who have cancelled their membership, which is important information for the company. That information could give us clues into why the users cancelled those memberships and help to improve our company with the retention of customers"
   ]
  },
  {
   "cell_type": "markdown",
   "metadata": {},
   "source": [
    "#### Making a state column so that we can access states quickly."
   ]
  },
  {
   "cell_type": "code",
   "execution_count": 18,
   "metadata": {},
   "outputs": [
    {
     "data": {
      "text/html": [
       "<div>\n",
       "<style scoped>\n",
       "    .dataframe tbody tr th:only-of-type {\n",
       "        vertical-align: middle;\n",
       "    }\n",
       "\n",
       "    .dataframe tbody tr th {\n",
       "        vertical-align: top;\n",
       "    }\n",
       "\n",
       "    .dataframe thead th {\n",
       "        text-align: right;\n",
       "    }\n",
       "</style>\n",
       "<table border=\"1\" class=\"dataframe\">\n",
       "  <thead>\n",
       "    <tr style=\"text-align: right;\">\n",
       "      <th></th>\n",
       "      <th>user_id</th>\n",
       "      <th>first_name</th>\n",
       "      <th>last_name</th>\n",
       "      <th>age</th>\n",
       "      <th>city</th>\n",
       "      <th>reg_date</th>\n",
       "      <th>plan</th>\n",
       "      <th>churn_date</th>\n",
       "      <th>state</th>\n",
       "    </tr>\n",
       "  </thead>\n",
       "  <tbody>\n",
       "    <tr>\n",
       "      <th>0</th>\n",
       "      <td>1000</td>\n",
       "      <td>Anamaria</td>\n",
       "      <td>Bauer</td>\n",
       "      <td>45</td>\n",
       "      <td>Atlanta-Sandy Springs-Roswell, GA MSA</td>\n",
       "      <td>2018-12-24</td>\n",
       "      <td>ultimate</td>\n",
       "      <td>NaT</td>\n",
       "      <td>GA MSA</td>\n",
       "    </tr>\n",
       "    <tr>\n",
       "      <th>1</th>\n",
       "      <td>1001</td>\n",
       "      <td>Mickey</td>\n",
       "      <td>Wilkerson</td>\n",
       "      <td>28</td>\n",
       "      <td>Seattle-Tacoma-Bellevue, WA MSA</td>\n",
       "      <td>2018-08-13</td>\n",
       "      <td>surf</td>\n",
       "      <td>NaT</td>\n",
       "      <td>WA MSA</td>\n",
       "    </tr>\n",
       "    <tr>\n",
       "      <th>2</th>\n",
       "      <td>1002</td>\n",
       "      <td>Carlee</td>\n",
       "      <td>Hoffman</td>\n",
       "      <td>36</td>\n",
       "      <td>Las Vegas-Henderson-Paradise, NV MSA</td>\n",
       "      <td>2018-10-21</td>\n",
       "      <td>surf</td>\n",
       "      <td>NaT</td>\n",
       "      <td>NV MSA</td>\n",
       "    </tr>\n",
       "    <tr>\n",
       "      <th>3</th>\n",
       "      <td>1003</td>\n",
       "      <td>Reynaldo</td>\n",
       "      <td>Jenkins</td>\n",
       "      <td>52</td>\n",
       "      <td>Tulsa, OK MSA</td>\n",
       "      <td>2018-01-28</td>\n",
       "      <td>surf</td>\n",
       "      <td>NaT</td>\n",
       "      <td>OK MSA</td>\n",
       "    </tr>\n",
       "    <tr>\n",
       "      <th>4</th>\n",
       "      <td>1004</td>\n",
       "      <td>Leonila</td>\n",
       "      <td>Thompson</td>\n",
       "      <td>40</td>\n",
       "      <td>Seattle-Tacoma-Bellevue, WA MSA</td>\n",
       "      <td>2018-05-23</td>\n",
       "      <td>surf</td>\n",
       "      <td>NaT</td>\n",
       "      <td>WA MSA</td>\n",
       "    </tr>\n",
       "  </tbody>\n",
       "</table>\n",
       "</div>"
      ],
      "text/plain": [
       "   user_id first_name  last_name  age                                   city  \\\n",
       "0     1000   Anamaria      Bauer   45  Atlanta-Sandy Springs-Roswell, GA MSA   \n",
       "1     1001     Mickey  Wilkerson   28        Seattle-Tacoma-Bellevue, WA MSA   \n",
       "2     1002     Carlee    Hoffman   36   Las Vegas-Henderson-Paradise, NV MSA   \n",
       "3     1003   Reynaldo    Jenkins   52                          Tulsa, OK MSA   \n",
       "4     1004    Leonila   Thompson   40        Seattle-Tacoma-Bellevue, WA MSA   \n",
       "\n",
       "    reg_date      plan churn_date   state  \n",
       "0 2018-12-24  ultimate        NaT  GA MSA  \n",
       "1 2018-08-13      surf        NaT  WA MSA  \n",
       "2 2018-10-21      surf        NaT  NV MSA  \n",
       "3 2018-01-28      surf        NaT  OK MSA  \n",
       "4 2018-05-23      surf        NaT  WA MSA  "
      ]
     },
     "execution_count": 18,
     "metadata": {},
     "output_type": "execute_result"
    }
   ],
   "source": [
    "states = megaline_users['city'].str.rsplit(', ')\n",
    "megaline_users['state'] = states.apply(lambda x: x[1])\n",
    "megaline_users.head()\n"
   ]
  },
  {
   "cell_type": "markdown",
   "metadata": {},
   "source": [
    "#### Created a State column so that we can easily access information for the different states in the data."
   ]
  },
  {
   "cell_type": "markdown",
   "metadata": {},
   "source": [
    "## Study plan conditions"
   ]
  },
  {
   "cell_type": "markdown",
   "metadata": {},
   "source": [
    "[It is critical to understand how the plans work, how users are charged based on their plan subscription. So, we suggest printing out the plan information to view their conditions once again.]"
   ]
  },
  {
   "cell_type": "code",
   "execution_count": 19,
   "metadata": {},
   "outputs": [
    {
     "data": {
      "text/html": [
       "<div>\n",
       "<style scoped>\n",
       "    .dataframe tbody tr th:only-of-type {\n",
       "        vertical-align: middle;\n",
       "    }\n",
       "\n",
       "    .dataframe tbody tr th {\n",
       "        vertical-align: top;\n",
       "    }\n",
       "\n",
       "    .dataframe thead th {\n",
       "        text-align: right;\n",
       "    }\n",
       "</style>\n",
       "<table border=\"1\" class=\"dataframe\">\n",
       "  <thead>\n",
       "    <tr style=\"text-align: right;\">\n",
       "      <th></th>\n",
       "      <th>messages_included</th>\n",
       "      <th>mb_per_month_included</th>\n",
       "      <th>minutes_included</th>\n",
       "      <th>usd_monthly_pay</th>\n",
       "      <th>usd_per_gb</th>\n",
       "      <th>usd_per_message</th>\n",
       "      <th>usd_per_minute</th>\n",
       "      <th>plan_name</th>\n",
       "    </tr>\n",
       "  </thead>\n",
       "  <tbody>\n",
       "    <tr>\n",
       "      <th>0</th>\n",
       "      <td>50</td>\n",
       "      <td>15360</td>\n",
       "      <td>500</td>\n",
       "      <td>20</td>\n",
       "      <td>10</td>\n",
       "      <td>0.03</td>\n",
       "      <td>0.03</td>\n",
       "      <td>surf</td>\n",
       "    </tr>\n",
       "    <tr>\n",
       "      <th>1</th>\n",
       "      <td>1000</td>\n",
       "      <td>30720</td>\n",
       "      <td>3000</td>\n",
       "      <td>70</td>\n",
       "      <td>7</td>\n",
       "      <td>0.01</td>\n",
       "      <td>0.01</td>\n",
       "      <td>ultimate</td>\n",
       "    </tr>\n",
       "  </tbody>\n",
       "</table>\n",
       "</div>"
      ],
      "text/plain": [
       "   messages_included  mb_per_month_included  minutes_included  \\\n",
       "0                 50                  15360               500   \n",
       "1               1000                  30720              3000   \n",
       "\n",
       "   usd_monthly_pay  usd_per_gb  usd_per_message  usd_per_minute plan_name  \n",
       "0               20          10             0.03            0.03      surf  \n",
       "1               70           7             0.01            0.01  ultimate  "
      ]
     },
     "execution_count": 19,
     "metadata": {},
     "output_type": "execute_result"
    }
   ],
   "source": [
    "# Print out the plan conditions and make sure they are clear for you\n",
    "megaline_plans"
   ]
  },
  {
   "cell_type": "markdown",
   "metadata": {},
   "source": [
    "## Aggregate data per user\n",
    "\n",
    "[Now, as the data is clean, aggregate data per user per period in order to have just one record per user per period. It should ease the further analysis a lot.]"
   ]
  },
  {
   "cell_type": "markdown",
   "metadata": {},
   "source": [
    "#### Calculated Number of Calls made by each user per month."
   ]
  },
  {
   "cell_type": "code",
   "execution_count": 20,
   "metadata": {
    "scrolled": true
   },
   "outputs": [
    {
     "data": {
      "text/html": [
       "<div>\n",
       "<style scoped>\n",
       "    .dataframe tbody tr th:only-of-type {\n",
       "        vertical-align: middle;\n",
       "    }\n",
       "\n",
       "    .dataframe tbody tr th {\n",
       "        vertical-align: top;\n",
       "    }\n",
       "\n",
       "    .dataframe thead th {\n",
       "        text-align: right;\n",
       "    }\n",
       "</style>\n",
       "<table border=\"1\" class=\"dataframe\">\n",
       "  <thead>\n",
       "    <tr style=\"text-align: right;\">\n",
       "      <th></th>\n",
       "      <th>user_id</th>\n",
       "      <th>month</th>\n",
       "      <th>num_calls_made</th>\n",
       "    </tr>\n",
       "  </thead>\n",
       "  <tbody>\n",
       "    <tr>\n",
       "      <th>0</th>\n",
       "      <td>1000</td>\n",
       "      <td>12</td>\n",
       "      <td>16</td>\n",
       "    </tr>\n",
       "    <tr>\n",
       "      <th>1</th>\n",
       "      <td>1001</td>\n",
       "      <td>8</td>\n",
       "      <td>27</td>\n",
       "    </tr>\n",
       "    <tr>\n",
       "      <th>2</th>\n",
       "      <td>1001</td>\n",
       "      <td>9</td>\n",
       "      <td>49</td>\n",
       "    </tr>\n",
       "    <tr>\n",
       "      <th>3</th>\n",
       "      <td>1001</td>\n",
       "      <td>10</td>\n",
       "      <td>65</td>\n",
       "    </tr>\n",
       "    <tr>\n",
       "      <th>4</th>\n",
       "      <td>1001</td>\n",
       "      <td>11</td>\n",
       "      <td>64</td>\n",
       "    </tr>\n",
       "    <tr>\n",
       "      <th>5</th>\n",
       "      <td>1001</td>\n",
       "      <td>12</td>\n",
       "      <td>56</td>\n",
       "    </tr>\n",
       "    <tr>\n",
       "      <th>6</th>\n",
       "      <td>1002</td>\n",
       "      <td>10</td>\n",
       "      <td>11</td>\n",
       "    </tr>\n",
       "    <tr>\n",
       "      <th>7</th>\n",
       "      <td>1002</td>\n",
       "      <td>11</td>\n",
       "      <td>55</td>\n",
       "    </tr>\n",
       "    <tr>\n",
       "      <th>8</th>\n",
       "      <td>1002</td>\n",
       "      <td>12</td>\n",
       "      <td>47</td>\n",
       "    </tr>\n",
       "    <tr>\n",
       "      <th>9</th>\n",
       "      <td>1003</td>\n",
       "      <td>12</td>\n",
       "      <td>149</td>\n",
       "    </tr>\n",
       "    <tr>\n",
       "      <th>10</th>\n",
       "      <td>1004</td>\n",
       "      <td>5</td>\n",
       "      <td>21</td>\n",
       "    </tr>\n",
       "    <tr>\n",
       "      <th>11</th>\n",
       "      <td>1004</td>\n",
       "      <td>6</td>\n",
       "      <td>44</td>\n",
       "    </tr>\n",
       "    <tr>\n",
       "      <th>12</th>\n",
       "      <td>1004</td>\n",
       "      <td>7</td>\n",
       "      <td>49</td>\n",
       "    </tr>\n",
       "    <tr>\n",
       "      <th>13</th>\n",
       "      <td>1004</td>\n",
       "      <td>8</td>\n",
       "      <td>49</td>\n",
       "    </tr>\n",
       "    <tr>\n",
       "      <th>14</th>\n",
       "      <td>1004</td>\n",
       "      <td>9</td>\n",
       "      <td>42</td>\n",
       "    </tr>\n",
       "    <tr>\n",
       "      <th>15</th>\n",
       "      <td>1004</td>\n",
       "      <td>10</td>\n",
       "      <td>61</td>\n",
       "    </tr>\n",
       "    <tr>\n",
       "      <th>16</th>\n",
       "      <td>1004</td>\n",
       "      <td>11</td>\n",
       "      <td>54</td>\n",
       "    </tr>\n",
       "    <tr>\n",
       "      <th>17</th>\n",
       "      <td>1004</td>\n",
       "      <td>12</td>\n",
       "      <td>50</td>\n",
       "    </tr>\n",
       "    <tr>\n",
       "      <th>18</th>\n",
       "      <td>1005</td>\n",
       "      <td>12</td>\n",
       "      <td>59</td>\n",
       "    </tr>\n",
       "    <tr>\n",
       "      <th>19</th>\n",
       "      <td>1006</td>\n",
       "      <td>11</td>\n",
       "      <td>2</td>\n",
       "    </tr>\n",
       "  </tbody>\n",
       "</table>\n",
       "</div>"
      ],
      "text/plain": [
       "    user_id  month  num_calls_made\n",
       "0      1000     12              16\n",
       "1      1001      8              27\n",
       "2      1001      9              49\n",
       "3      1001     10              65\n",
       "4      1001     11              64\n",
       "5      1001     12              56\n",
       "6      1002     10              11\n",
       "7      1002     11              55\n",
       "8      1002     12              47\n",
       "9      1003     12             149\n",
       "10     1004      5              21\n",
       "11     1004      6              44\n",
       "12     1004      7              49\n",
       "13     1004      8              49\n",
       "14     1004      9              42\n",
       "15     1004     10              61\n",
       "16     1004     11              54\n",
       "17     1004     12              50\n",
       "18     1005     12              59\n",
       "19     1006     11               2"
      ]
     },
     "execution_count": 20,
     "metadata": {},
     "output_type": "execute_result"
    }
   ],
   "source": [
    "# Calculate the number of calls made by each user per month. Save the result.\n",
    "megaline_calls.head()\n",
    "megaline_calls['month'] = megaline_calls['call_date'].dt.month\n",
    "num_calls_made = megaline_calls.groupby(['user_id', 'month'])['id'].count().reset_index()\n",
    "num_calls_made.rename(columns={\"user_id\": \"user_id\", \"id\": \"num_calls_made\"}, inplace=True)\n",
    "num_calls_made.head(20)\n",
    "\n",
    "\n"
   ]
  },
  {
   "cell_type": "markdown",
   "metadata": {},
   "source": [
    "<div class=\"alert alert-block alert-success\">\n",
    "<b>Reviewer's comment</b> <a class=\"tocSkip\"></a>\n",
    "\n",
    "Correct.\n",
    "</div>"
   ]
  },
  {
   "cell_type": "markdown",
   "metadata": {},
   "source": [
    "#### Calculated the number of calls made each month per month by user_id. "
   ]
  },
  {
   "cell_type": "code",
   "execution_count": 21,
   "metadata": {
    "scrolled": true
   },
   "outputs": [
    {
     "data": {
      "text/html": [
       "<div>\n",
       "<style scoped>\n",
       "    .dataframe tbody tr th:only-of-type {\n",
       "        vertical-align: middle;\n",
       "    }\n",
       "\n",
       "    .dataframe tbody tr th {\n",
       "        vertical-align: top;\n",
       "    }\n",
       "\n",
       "    .dataframe thead th {\n",
       "        text-align: right;\n",
       "    }\n",
       "</style>\n",
       "<table border=\"1\" class=\"dataframe\">\n",
       "  <thead>\n",
       "    <tr style=\"text-align: right;\">\n",
       "      <th></th>\n",
       "      <th>user_id</th>\n",
       "      <th>month</th>\n",
       "      <th>minutes_per_month</th>\n",
       "    </tr>\n",
       "  </thead>\n",
       "  <tbody>\n",
       "    <tr>\n",
       "      <th>0</th>\n",
       "      <td>1000</td>\n",
       "      <td>12</td>\n",
       "      <td>124</td>\n",
       "    </tr>\n",
       "    <tr>\n",
       "      <th>1</th>\n",
       "      <td>1001</td>\n",
       "      <td>8</td>\n",
       "      <td>182</td>\n",
       "    </tr>\n",
       "    <tr>\n",
       "      <th>2</th>\n",
       "      <td>1001</td>\n",
       "      <td>9</td>\n",
       "      <td>315</td>\n",
       "    </tr>\n",
       "    <tr>\n",
       "      <th>3</th>\n",
       "      <td>1001</td>\n",
       "      <td>10</td>\n",
       "      <td>393</td>\n",
       "    </tr>\n",
       "    <tr>\n",
       "      <th>4</th>\n",
       "      <td>1001</td>\n",
       "      <td>11</td>\n",
       "      <td>426</td>\n",
       "    </tr>\n",
       "    <tr>\n",
       "      <th>...</th>\n",
       "      <td>...</td>\n",
       "      <td>...</td>\n",
       "      <td>...</td>\n",
       "    </tr>\n",
       "    <tr>\n",
       "      <th>2253</th>\n",
       "      <td>1498</td>\n",
       "      <td>12</td>\n",
       "      <td>339</td>\n",
       "    </tr>\n",
       "    <tr>\n",
       "      <th>2254</th>\n",
       "      <td>1499</td>\n",
       "      <td>9</td>\n",
       "      <td>346</td>\n",
       "    </tr>\n",
       "    <tr>\n",
       "      <th>2255</th>\n",
       "      <td>1499</td>\n",
       "      <td>10</td>\n",
       "      <td>385</td>\n",
       "    </tr>\n",
       "    <tr>\n",
       "      <th>2256</th>\n",
       "      <td>1499</td>\n",
       "      <td>11</td>\n",
       "      <td>308</td>\n",
       "    </tr>\n",
       "    <tr>\n",
       "      <th>2257</th>\n",
       "      <td>1499</td>\n",
       "      <td>12</td>\n",
       "      <td>496</td>\n",
       "    </tr>\n",
       "  </tbody>\n",
       "</table>\n",
       "<p>2258 rows × 3 columns</p>\n",
       "</div>"
      ],
      "text/plain": [
       "      user_id  month  minutes_per_month\n",
       "0        1000     12                124\n",
       "1        1001      8                182\n",
       "2        1001      9                315\n",
       "3        1001     10                393\n",
       "4        1001     11                426\n",
       "...       ...    ...                ...\n",
       "2253     1498     12                339\n",
       "2254     1499      9                346\n",
       "2255     1499     10                385\n",
       "2256     1499     11                308\n",
       "2257     1499     12                496\n",
       "\n",
       "[2258 rows x 3 columns]"
      ]
     },
     "execution_count": 21,
     "metadata": {},
     "output_type": "execute_result"
    }
   ],
   "source": [
    "# Calculate the amount of minutes spent by each user per month. Save the result.\n",
    "megaline_calls.head()\n",
    "megaline_calls['month'] = megaline_calls['call_date'].dt.month\n",
    "minutes_per_month = megaline_calls.groupby(['user_id', 'month'])['duration'].sum().reset_index()\n",
    "minutes_per_month.rename(columns={'duration': 'minutes_per_month'}, inplace=True)\n",
    "minutes_per_month['minutes_per_month'].apply(np.ceil)\n",
    "minutes_per_month\n"
   ]
  },
  {
   "cell_type": "markdown",
   "metadata": {},
   "source": [
    "<div class=\"alert alert-block alert-danger\">\n",
    "<b>Reviewer's comment</b> <a class=\"tocSkip\"></a>\n",
    "\n",
    "Let's talk about the project's requirements. \n",
    "    \n",
    "Remember! Megaline rounds seconds up to minutes, and megabytes to gigabytes. For calls, each individual call is rounded up: even if the call lasted just one second, it will be counted as one minute. For web traffic, individual web sessions are not rounded up. Instead, the total for the month is rounded up. If someone uses 1025 megabytes this month, they will be charged for 2 gigabytes.\n",
    "    \n",
    "    \n",
    "So, to calculate amount of minutes spent we need to preprocess duration column based on description.\n",
    "</div>"
   ]
  },
  {
   "cell_type": "markdown",
   "metadata": {},
   "source": [
    "<div class=\"alert alert-block alert-info\">\n",
    "<b>Didn't this line of code convert the integers and round them up like it was asking? Also, I rounded the gigabytes up for the total months at 1.4.0.4.</b> Can you explain where this is not correct?\n",
    "megaline_calls['duration'] = megaline_calls['duration'].apply(np.ceil)\n",
    "megaline_calls['duration'] = megaline_calls['duration'].astype('int')\n",
    "megaline_calls.info()<a class=\"tocSkip\"></a>\n",
    "</div>"
   ]
  },
  {
   "cell_type": "markdown",
   "metadata": {},
   "source": [
    "<div class=\"alert alert-block alert-warning\">\n",
    "<b>Reviewer's comment</b> <a class=\"tocSkip\"></a>\n",
    "\n",
    "Line in comment is correct =) Did not find it in code...\n",
    "</div>"
   ]
  },
  {
   "cell_type": "markdown",
   "metadata": {},
   "source": [
    "<div class=\"alert alert-block alert-info\">\n",
    "<b>The code is up at 1.2.2.1 <b> <a class=\"tocSkip\"></a>\n",
    "\n",
    "</div>"
   ]
  },
  {
   "cell_type": "markdown",
   "metadata": {},
   "source": [
    "<div class=\"alert alert-block alert-success\">\n",
    "<b>Reviewer's comment</b> <a class=\"tocSkip\"></a>\n",
    "\n",
    "Ok, correct.\n",
    "</div>"
   ]
  },
  {
   "cell_type": "markdown",
   "metadata": {},
   "source": [
    "#### Calculated amount of minutes spent per user each month."
   ]
  },
  {
   "cell_type": "code",
   "execution_count": 22,
   "metadata": {},
   "outputs": [
    {
     "data": {
      "text/html": [
       "<div>\n",
       "<style scoped>\n",
       "    .dataframe tbody tr th:only-of-type {\n",
       "        vertical-align: middle;\n",
       "    }\n",
       "\n",
       "    .dataframe tbody tr th {\n",
       "        vertical-align: top;\n",
       "    }\n",
       "\n",
       "    .dataframe thead th {\n",
       "        text-align: right;\n",
       "    }\n",
       "</style>\n",
       "<table border=\"1\" class=\"dataframe\">\n",
       "  <thead>\n",
       "    <tr style=\"text-align: right;\">\n",
       "      <th></th>\n",
       "      <th>user_id</th>\n",
       "      <th>month</th>\n",
       "      <th>num_messages</th>\n",
       "    </tr>\n",
       "  </thead>\n",
       "  <tbody>\n",
       "    <tr>\n",
       "      <th>0</th>\n",
       "      <td>1000</td>\n",
       "      <td>12</td>\n",
       "      <td>11</td>\n",
       "    </tr>\n",
       "    <tr>\n",
       "      <th>1</th>\n",
       "      <td>1001</td>\n",
       "      <td>8</td>\n",
       "      <td>30</td>\n",
       "    </tr>\n",
       "    <tr>\n",
       "      <th>2</th>\n",
       "      <td>1001</td>\n",
       "      <td>9</td>\n",
       "      <td>44</td>\n",
       "    </tr>\n",
       "    <tr>\n",
       "      <th>3</th>\n",
       "      <td>1001</td>\n",
       "      <td>10</td>\n",
       "      <td>53</td>\n",
       "    </tr>\n",
       "    <tr>\n",
       "      <th>4</th>\n",
       "      <td>1001</td>\n",
       "      <td>11</td>\n",
       "      <td>36</td>\n",
       "    </tr>\n",
       "    <tr>\n",
       "      <th>...</th>\n",
       "      <td>...</td>\n",
       "      <td>...</td>\n",
       "      <td>...</td>\n",
       "    </tr>\n",
       "    <tr>\n",
       "      <th>1801</th>\n",
       "      <td>1496</td>\n",
       "      <td>9</td>\n",
       "      <td>21</td>\n",
       "    </tr>\n",
       "    <tr>\n",
       "      <th>1802</th>\n",
       "      <td>1496</td>\n",
       "      <td>10</td>\n",
       "      <td>18</td>\n",
       "    </tr>\n",
       "    <tr>\n",
       "      <th>1803</th>\n",
       "      <td>1496</td>\n",
       "      <td>11</td>\n",
       "      <td>13</td>\n",
       "    </tr>\n",
       "    <tr>\n",
       "      <th>1804</th>\n",
       "      <td>1496</td>\n",
       "      <td>12</td>\n",
       "      <td>11</td>\n",
       "    </tr>\n",
       "    <tr>\n",
       "      <th>1805</th>\n",
       "      <td>1497</td>\n",
       "      <td>12</td>\n",
       "      <td>50</td>\n",
       "    </tr>\n",
       "  </tbody>\n",
       "</table>\n",
       "<p>1806 rows × 3 columns</p>\n",
       "</div>"
      ],
      "text/plain": [
       "      user_id  month  num_messages\n",
       "0        1000     12            11\n",
       "1        1001      8            30\n",
       "2        1001      9            44\n",
       "3        1001     10            53\n",
       "4        1001     11            36\n",
       "...       ...    ...           ...\n",
       "1801     1496      9            21\n",
       "1802     1496     10            18\n",
       "1803     1496     11            13\n",
       "1804     1496     12            11\n",
       "1805     1497     12            50\n",
       "\n",
       "[1806 rows x 3 columns]"
      ]
     },
     "execution_count": 22,
     "metadata": {},
     "output_type": "execute_result"
    }
   ],
   "source": [
    "# Calculate the number of messages sent by each user per month. Save the result.\n",
    "megaline_messages['month'] = megaline_messages['message_date'].dt.month\n",
    "msg_sent_user = megaline_messages.groupby(['user_id', 'month'])['id'].count().reset_index()\n",
    "msg_sent_user.rename(columns={'id': 'num_messages'}, inplace=True)\n",
    "msg_sent_user\n",
    "\n"
   ]
  },
  {
   "cell_type": "markdown",
   "metadata": {},
   "source": [
    "<div class=\"alert alert-block alert-success\">\n",
    "<b>Reviewer's comment</b> <a class=\"tocSkip\"></a>\n",
    "\n",
    "Correct.\n",
    "</div>"
   ]
  },
  {
   "cell_type": "markdown",
   "metadata": {},
   "source": [
    "#### Calculated amount of messages sent per user each month by user_id."
   ]
  },
  {
   "cell_type": "code",
   "execution_count": 23,
   "metadata": {},
   "outputs": [
    {
     "name": "stdout",
     "output_type": "stream",
     "text": [
      "   user_id  month   mb_used\n",
      "0     1000     12   1901.47\n",
      "1     1001      8   6919.15\n",
      "2     1001      9  13314.82\n",
      "3     1001     10  22330.49\n",
      "4     1001     11  18504.30\n"
     ]
    },
    {
     "data": {
      "text/html": [
       "<div>\n",
       "<style scoped>\n",
       "    .dataframe tbody tr th:only-of-type {\n",
       "        vertical-align: middle;\n",
       "    }\n",
       "\n",
       "    .dataframe tbody tr th {\n",
       "        vertical-align: top;\n",
       "    }\n",
       "\n",
       "    .dataframe thead th {\n",
       "        text-align: right;\n",
       "    }\n",
       "</style>\n",
       "<table border=\"1\" class=\"dataframe\">\n",
       "  <thead>\n",
       "    <tr style=\"text-align: right;\">\n",
       "      <th></th>\n",
       "      <th>user_id</th>\n",
       "      <th>month</th>\n",
       "      <th>gb_used</th>\n",
       "    </tr>\n",
       "  </thead>\n",
       "  <tbody>\n",
       "    <tr>\n",
       "      <th>0</th>\n",
       "      <td>1000</td>\n",
       "      <td>12</td>\n",
       "      <td>2</td>\n",
       "    </tr>\n",
       "    <tr>\n",
       "      <th>1</th>\n",
       "      <td>1001</td>\n",
       "      <td>8</td>\n",
       "      <td>7</td>\n",
       "    </tr>\n",
       "    <tr>\n",
       "      <th>2</th>\n",
       "      <td>1001</td>\n",
       "      <td>9</td>\n",
       "      <td>14</td>\n",
       "    </tr>\n",
       "    <tr>\n",
       "      <th>3</th>\n",
       "      <td>1001</td>\n",
       "      <td>10</td>\n",
       "      <td>22</td>\n",
       "    </tr>\n",
       "    <tr>\n",
       "      <th>4</th>\n",
       "      <td>1001</td>\n",
       "      <td>11</td>\n",
       "      <td>19</td>\n",
       "    </tr>\n",
       "    <tr>\n",
       "      <th>...</th>\n",
       "      <td>...</td>\n",
       "      <td>...</td>\n",
       "      <td>...</td>\n",
       "    </tr>\n",
       "    <tr>\n",
       "      <th>2272</th>\n",
       "      <td>1498</td>\n",
       "      <td>12</td>\n",
       "      <td>23</td>\n",
       "    </tr>\n",
       "    <tr>\n",
       "      <th>2273</th>\n",
       "      <td>1499</td>\n",
       "      <td>9</td>\n",
       "      <td>13</td>\n",
       "    </tr>\n",
       "    <tr>\n",
       "      <th>2274</th>\n",
       "      <td>1499</td>\n",
       "      <td>10</td>\n",
       "      <td>20</td>\n",
       "    </tr>\n",
       "    <tr>\n",
       "      <th>2275</th>\n",
       "      <td>1499</td>\n",
       "      <td>11</td>\n",
       "      <td>17</td>\n",
       "    </tr>\n",
       "    <tr>\n",
       "      <th>2276</th>\n",
       "      <td>1499</td>\n",
       "      <td>12</td>\n",
       "      <td>22</td>\n",
       "    </tr>\n",
       "  </tbody>\n",
       "</table>\n",
       "<p>2277 rows × 3 columns</p>\n",
       "</div>"
      ],
      "text/plain": [
       "      user_id  month  gb_used\n",
       "0        1000     12        2\n",
       "1        1001      8        7\n",
       "2        1001      9       14\n",
       "3        1001     10       22\n",
       "4        1001     11       19\n",
       "...       ...    ...      ...\n",
       "2272     1498     12       23\n",
       "2273     1499      9       13\n",
       "2274     1499     10       20\n",
       "2275     1499     11       17\n",
       "2276     1499     12       22\n",
       "\n",
       "[2277 rows x 3 columns]"
      ]
     },
     "execution_count": 23,
     "metadata": {},
     "output_type": "execute_result"
    }
   ],
   "source": [
    "# Calculate the volume of internet traffic used by each user per month. Save the result.\n",
    "megaline_internet['month'] = megaline_internet['session_date'].dt.month\n",
    "mb_used_per_month = megaline_internet.groupby(['user_id', 'month'])['mb_used'].sum().reset_index()\n",
    "mb_used_per_month\n",
    "print(mb_used_per_month.head())\n",
    "mb_used_per_month['mb_used'] = (mb_used_per_month['mb_used']/1024).apply(np.ceil)\n",
    "mb_used_per_month['gb_used'] = mb_used_per_month['mb_used'].astype(int)\n",
    "mb_used_per_month.drop('mb_used', axis=1, inplace=True)\n",
    "mb_gb_used_per_month = mb_used_per_month\n",
    "mb_gb_used_per_month\n"
   ]
  },
  {
   "cell_type": "markdown",
   "metadata": {},
   "source": [
    "<div class=\"alert alert-block alert-warning\">\n",
    "<b>Reviewer's comment</b> <a class=\"tocSkip\"></a>\n",
    "\n",
    "Seems we have redundant actions here.\n",
    "</div>"
   ]
  },
  {
   "cell_type": "markdown",
   "metadata": {},
   "source": [
    "<div class=\"alert alert-block alert-warning\">\n",
    "<b>Reviewer's comment</b> <a class=\"tocSkip\"></a>\n",
    "\n",
    "We have 1024 Mb in 1 Gb.\n",
    "</div>"
   ]
  },
  {
   "cell_type": "markdown",
   "metadata": {},
   "source": [
    "<div class=\"alert alert-block alert-info\">\n",
    "<b>Oh, it's in binary. That makes sense. If you do a search it's 1000 MB to 1 GB. But MB binary is 1024 MB to 1 GB. Okay I'll fix this.<a class=\"tocSkip\"></a>\n",
    "</div>"
   ]
  },
  {
   "cell_type": "markdown",
   "metadata": {},
   "source": [
    "<div class=\"alert alert-block alert-warning\">\n",
    "<b>Reviewer's comment</b> <a class=\"tocSkip\"></a>\n",
    "\n",
    "Pro tip: we can apply np.ceil column-wise - np.ceil(df[column]). It's more efficient than row-wise.\n",
    "</div>"
   ]
  },
  {
   "cell_type": "markdown",
   "metadata": {},
   "source": [
    "<div class=\"alert alert-block alert-success\">\n",
    "<b>Reviewer's comment</b> <a class=\"tocSkip\"></a>\n",
    "\n",
    "Well done!\n",
    "</div>"
   ]
  },
  {
   "cell_type": "markdown",
   "metadata": {},
   "source": [
    "#### Calculated amount of GB's used by each customer per month."
   ]
  },
  {
   "cell_type": "markdown",
   "metadata": {},
   "source": [
    "[Put the aggregate data together into one DataFrame so that one record in it would represent what an unique user consumed in a given month.]"
   ]
  },
  {
   "cell_type": "code",
   "execution_count": 24,
   "metadata": {},
   "outputs": [
    {
     "data": {
      "text/html": [
       "<div>\n",
       "<style scoped>\n",
       "    .dataframe tbody tr th:only-of-type {\n",
       "        vertical-align: middle;\n",
       "    }\n",
       "\n",
       "    .dataframe tbody tr th {\n",
       "        vertical-align: top;\n",
       "    }\n",
       "\n",
       "    .dataframe thead th {\n",
       "        text-align: right;\n",
       "    }\n",
       "</style>\n",
       "<table border=\"1\" class=\"dataframe\">\n",
       "  <thead>\n",
       "    <tr style=\"text-align: right;\">\n",
       "      <th></th>\n",
       "      <th>user_id</th>\n",
       "      <th>month</th>\n",
       "      <th>num_calls_made</th>\n",
       "      <th>minutes_per_month</th>\n",
       "      <th>num_messages</th>\n",
       "      <th>gb_used</th>\n",
       "      <th>first_name</th>\n",
       "      <th>last_name</th>\n",
       "      <th>age</th>\n",
       "      <th>city</th>\n",
       "      <th>reg_date</th>\n",
       "      <th>plan</th>\n",
       "      <th>churn_date</th>\n",
       "      <th>state</th>\n",
       "    </tr>\n",
       "  </thead>\n",
       "  <tbody>\n",
       "    <tr>\n",
       "      <th>0</th>\n",
       "      <td>1000</td>\n",
       "      <td>12.0</td>\n",
       "      <td>16.0</td>\n",
       "      <td>124.0</td>\n",
       "      <td>11.0</td>\n",
       "      <td>2.0</td>\n",
       "      <td>Anamaria</td>\n",
       "      <td>Bauer</td>\n",
       "      <td>45</td>\n",
       "      <td>Atlanta-Sandy Springs-Roswell, GA MSA</td>\n",
       "      <td>2018-12-24</td>\n",
       "      <td>ultimate</td>\n",
       "      <td>NaT</td>\n",
       "      <td>GA MSA</td>\n",
       "    </tr>\n",
       "    <tr>\n",
       "      <th>1</th>\n",
       "      <td>1001</td>\n",
       "      <td>8.0</td>\n",
       "      <td>27.0</td>\n",
       "      <td>182.0</td>\n",
       "      <td>30.0</td>\n",
       "      <td>7.0</td>\n",
       "      <td>Mickey</td>\n",
       "      <td>Wilkerson</td>\n",
       "      <td>28</td>\n",
       "      <td>Seattle-Tacoma-Bellevue, WA MSA</td>\n",
       "      <td>2018-08-13</td>\n",
       "      <td>surf</td>\n",
       "      <td>NaT</td>\n",
       "      <td>WA MSA</td>\n",
       "    </tr>\n",
       "    <tr>\n",
       "      <th>2</th>\n",
       "      <td>1001</td>\n",
       "      <td>9.0</td>\n",
       "      <td>49.0</td>\n",
       "      <td>315.0</td>\n",
       "      <td>44.0</td>\n",
       "      <td>14.0</td>\n",
       "      <td>Mickey</td>\n",
       "      <td>Wilkerson</td>\n",
       "      <td>28</td>\n",
       "      <td>Seattle-Tacoma-Bellevue, WA MSA</td>\n",
       "      <td>2018-08-13</td>\n",
       "      <td>surf</td>\n",
       "      <td>NaT</td>\n",
       "      <td>WA MSA</td>\n",
       "    </tr>\n",
       "    <tr>\n",
       "      <th>3</th>\n",
       "      <td>1001</td>\n",
       "      <td>10.0</td>\n",
       "      <td>65.0</td>\n",
       "      <td>393.0</td>\n",
       "      <td>53.0</td>\n",
       "      <td>22.0</td>\n",
       "      <td>Mickey</td>\n",
       "      <td>Wilkerson</td>\n",
       "      <td>28</td>\n",
       "      <td>Seattle-Tacoma-Bellevue, WA MSA</td>\n",
       "      <td>2018-08-13</td>\n",
       "      <td>surf</td>\n",
       "      <td>NaT</td>\n",
       "      <td>WA MSA</td>\n",
       "    </tr>\n",
       "    <tr>\n",
       "      <th>4</th>\n",
       "      <td>1001</td>\n",
       "      <td>11.0</td>\n",
       "      <td>64.0</td>\n",
       "      <td>426.0</td>\n",
       "      <td>36.0</td>\n",
       "      <td>19.0</td>\n",
       "      <td>Mickey</td>\n",
       "      <td>Wilkerson</td>\n",
       "      <td>28</td>\n",
       "      <td>Seattle-Tacoma-Bellevue, WA MSA</td>\n",
       "      <td>2018-08-13</td>\n",
       "      <td>surf</td>\n",
       "      <td>NaT</td>\n",
       "      <td>WA MSA</td>\n",
       "    </tr>\n",
       "    <tr>\n",
       "      <th>5</th>\n",
       "      <td>1001</td>\n",
       "      <td>12.0</td>\n",
       "      <td>56.0</td>\n",
       "      <td>412.0</td>\n",
       "      <td>44.0</td>\n",
       "      <td>19.0</td>\n",
       "      <td>Mickey</td>\n",
       "      <td>Wilkerson</td>\n",
       "      <td>28</td>\n",
       "      <td>Seattle-Tacoma-Bellevue, WA MSA</td>\n",
       "      <td>2018-08-13</td>\n",
       "      <td>surf</td>\n",
       "      <td>NaT</td>\n",
       "      <td>WA MSA</td>\n",
       "    </tr>\n",
       "    <tr>\n",
       "      <th>6</th>\n",
       "      <td>1002</td>\n",
       "      <td>10.0</td>\n",
       "      <td>11.0</td>\n",
       "      <td>59.0</td>\n",
       "      <td>15.0</td>\n",
       "      <td>7.0</td>\n",
       "      <td>Carlee</td>\n",
       "      <td>Hoffman</td>\n",
       "      <td>36</td>\n",
       "      <td>Las Vegas-Henderson-Paradise, NV MSA</td>\n",
       "      <td>2018-10-21</td>\n",
       "      <td>surf</td>\n",
       "      <td>NaT</td>\n",
       "      <td>NV MSA</td>\n",
       "    </tr>\n",
       "    <tr>\n",
       "      <th>7</th>\n",
       "      <td>1002</td>\n",
       "      <td>11.0</td>\n",
       "      <td>55.0</td>\n",
       "      <td>386.0</td>\n",
       "      <td>32.0</td>\n",
       "      <td>19.0</td>\n",
       "      <td>Carlee</td>\n",
       "      <td>Hoffman</td>\n",
       "      <td>36</td>\n",
       "      <td>Las Vegas-Henderson-Paradise, NV MSA</td>\n",
       "      <td>2018-10-21</td>\n",
       "      <td>surf</td>\n",
       "      <td>NaT</td>\n",
       "      <td>NV MSA</td>\n",
       "    </tr>\n",
       "    <tr>\n",
       "      <th>8</th>\n",
       "      <td>1002</td>\n",
       "      <td>12.0</td>\n",
       "      <td>47.0</td>\n",
       "      <td>384.0</td>\n",
       "      <td>41.0</td>\n",
       "      <td>15.0</td>\n",
       "      <td>Carlee</td>\n",
       "      <td>Hoffman</td>\n",
       "      <td>36</td>\n",
       "      <td>Las Vegas-Henderson-Paradise, NV MSA</td>\n",
       "      <td>2018-10-21</td>\n",
       "      <td>surf</td>\n",
       "      <td>NaT</td>\n",
       "      <td>NV MSA</td>\n",
       "    </tr>\n",
       "    <tr>\n",
       "      <th>9</th>\n",
       "      <td>1003</td>\n",
       "      <td>12.0</td>\n",
       "      <td>149.0</td>\n",
       "      <td>1104.0</td>\n",
       "      <td>50.0</td>\n",
       "      <td>27.0</td>\n",
       "      <td>Reynaldo</td>\n",
       "      <td>Jenkins</td>\n",
       "      <td>52</td>\n",
       "      <td>Tulsa, OK MSA</td>\n",
       "      <td>2018-01-28</td>\n",
       "      <td>surf</td>\n",
       "      <td>NaT</td>\n",
       "      <td>OK MSA</td>\n",
       "    </tr>\n",
       "    <tr>\n",
       "      <th>10</th>\n",
       "      <td>1004</td>\n",
       "      <td>5.0</td>\n",
       "      <td>21.0</td>\n",
       "      <td>193.0</td>\n",
       "      <td>7.0</td>\n",
       "      <td>7.0</td>\n",
       "      <td>Leonila</td>\n",
       "      <td>Thompson</td>\n",
       "      <td>40</td>\n",
       "      <td>Seattle-Tacoma-Bellevue, WA MSA</td>\n",
       "      <td>2018-05-23</td>\n",
       "      <td>surf</td>\n",
       "      <td>NaT</td>\n",
       "      <td>WA MSA</td>\n",
       "    </tr>\n",
       "    <tr>\n",
       "      <th>11</th>\n",
       "      <td>1004</td>\n",
       "      <td>6.0</td>\n",
       "      <td>44.0</td>\n",
       "      <td>275.0</td>\n",
       "      <td>18.0</td>\n",
       "      <td>21.0</td>\n",
       "      <td>Leonila</td>\n",
       "      <td>Thompson</td>\n",
       "      <td>40</td>\n",
       "      <td>Seattle-Tacoma-Bellevue, WA MSA</td>\n",
       "      <td>2018-05-23</td>\n",
       "      <td>surf</td>\n",
       "      <td>NaT</td>\n",
       "      <td>WA MSA</td>\n",
       "    </tr>\n",
       "    <tr>\n",
       "      <th>12</th>\n",
       "      <td>1004</td>\n",
       "      <td>7.0</td>\n",
       "      <td>49.0</td>\n",
       "      <td>381.0</td>\n",
       "      <td>26.0</td>\n",
       "      <td>24.0</td>\n",
       "      <td>Leonila</td>\n",
       "      <td>Thompson</td>\n",
       "      <td>40</td>\n",
       "      <td>Seattle-Tacoma-Bellevue, WA MSA</td>\n",
       "      <td>2018-05-23</td>\n",
       "      <td>surf</td>\n",
       "      <td>NaT</td>\n",
       "      <td>WA MSA</td>\n",
       "    </tr>\n",
       "    <tr>\n",
       "      <th>13</th>\n",
       "      <td>1004</td>\n",
       "      <td>8.0</td>\n",
       "      <td>49.0</td>\n",
       "      <td>354.0</td>\n",
       "      <td>25.0</td>\n",
       "      <td>28.0</td>\n",
       "      <td>Leonila</td>\n",
       "      <td>Thompson</td>\n",
       "      <td>40</td>\n",
       "      <td>Seattle-Tacoma-Bellevue, WA MSA</td>\n",
       "      <td>2018-05-23</td>\n",
       "      <td>surf</td>\n",
       "      <td>NaT</td>\n",
       "      <td>WA MSA</td>\n",
       "    </tr>\n",
       "    <tr>\n",
       "      <th>14</th>\n",
       "      <td>1004</td>\n",
       "      <td>9.0</td>\n",
       "      <td>42.0</td>\n",
       "      <td>301.0</td>\n",
       "      <td>21.0</td>\n",
       "      <td>19.0</td>\n",
       "      <td>Leonila</td>\n",
       "      <td>Thompson</td>\n",
       "      <td>40</td>\n",
       "      <td>Seattle-Tacoma-Bellevue, WA MSA</td>\n",
       "      <td>2018-05-23</td>\n",
       "      <td>surf</td>\n",
       "      <td>NaT</td>\n",
       "      <td>WA MSA</td>\n",
       "    </tr>\n",
       "    <tr>\n",
       "      <th>15</th>\n",
       "      <td>1004</td>\n",
       "      <td>10.0</td>\n",
       "      <td>61.0</td>\n",
       "      <td>365.0</td>\n",
       "      <td>24.0</td>\n",
       "      <td>15.0</td>\n",
       "      <td>Leonila</td>\n",
       "      <td>Thompson</td>\n",
       "      <td>40</td>\n",
       "      <td>Seattle-Tacoma-Bellevue, WA MSA</td>\n",
       "      <td>2018-05-23</td>\n",
       "      <td>surf</td>\n",
       "      <td>NaT</td>\n",
       "      <td>WA MSA</td>\n",
       "    </tr>\n",
       "    <tr>\n",
       "      <th>16</th>\n",
       "      <td>1004</td>\n",
       "      <td>11.0</td>\n",
       "      <td>54.0</td>\n",
       "      <td>476.0</td>\n",
       "      <td>25.0</td>\n",
       "      <td>22.0</td>\n",
       "      <td>Leonila</td>\n",
       "      <td>Thompson</td>\n",
       "      <td>40</td>\n",
       "      <td>Seattle-Tacoma-Bellevue, WA MSA</td>\n",
       "      <td>2018-05-23</td>\n",
       "      <td>surf</td>\n",
       "      <td>NaT</td>\n",
       "      <td>WA MSA</td>\n",
       "    </tr>\n",
       "    <tr>\n",
       "      <th>17</th>\n",
       "      <td>1004</td>\n",
       "      <td>12.0</td>\n",
       "      <td>50.0</td>\n",
       "      <td>427.0</td>\n",
       "      <td>31.0</td>\n",
       "      <td>21.0</td>\n",
       "      <td>Leonila</td>\n",
       "      <td>Thompson</td>\n",
       "      <td>40</td>\n",
       "      <td>Seattle-Tacoma-Bellevue, WA MSA</td>\n",
       "      <td>2018-05-23</td>\n",
       "      <td>surf</td>\n",
       "      <td>NaT</td>\n",
       "      <td>WA MSA</td>\n",
       "    </tr>\n",
       "    <tr>\n",
       "      <th>18</th>\n",
       "      <td>1005</td>\n",
       "      <td>12.0</td>\n",
       "      <td>59.0</td>\n",
       "      <td>496.0</td>\n",
       "      <td>11.0</td>\n",
       "      <td>17.0</td>\n",
       "      <td>Livia</td>\n",
       "      <td>Shields</td>\n",
       "      <td>31</td>\n",
       "      <td>Dallas-Fort Worth-Arlington, TX MSA</td>\n",
       "      <td>2018-11-29</td>\n",
       "      <td>surf</td>\n",
       "      <td>NaT</td>\n",
       "      <td>TX MSA</td>\n",
       "    </tr>\n",
       "    <tr>\n",
       "      <th>19</th>\n",
       "      <td>1006</td>\n",
       "      <td>11.0</td>\n",
       "      <td>2.0</td>\n",
       "      <td>10.0</td>\n",
       "      <td>15.0</td>\n",
       "      <td>3.0</td>\n",
       "      <td>Jesusa</td>\n",
       "      <td>Bradford</td>\n",
       "      <td>73</td>\n",
       "      <td>San Francisco-Oakland-Berkeley, CA MSA</td>\n",
       "      <td>2018-11-27</td>\n",
       "      <td>ultimate</td>\n",
       "      <td>2018-12-18</td>\n",
       "      <td>CA MSA</td>\n",
       "    </tr>\n",
       "    <tr>\n",
       "      <th>20</th>\n",
       "      <td>1006</td>\n",
       "      <td>12.0</td>\n",
       "      <td>9.0</td>\n",
       "      <td>59.0</td>\n",
       "      <td>139.0</td>\n",
       "      <td>32.0</td>\n",
       "      <td>Jesusa</td>\n",
       "      <td>Bradford</td>\n",
       "      <td>73</td>\n",
       "      <td>San Francisco-Oakland-Berkeley, CA MSA</td>\n",
       "      <td>2018-11-27</td>\n",
       "      <td>ultimate</td>\n",
       "      <td>2018-12-18</td>\n",
       "      <td>CA MSA</td>\n",
       "    </tr>\n",
       "    <tr>\n",
       "      <th>21</th>\n",
       "      <td>1007</td>\n",
       "      <td>8.0</td>\n",
       "      <td>70.0</td>\n",
       "      <td>456.0</td>\n",
       "      <td>51.0</td>\n",
       "      <td>24.0</td>\n",
       "      <td>Eusebio</td>\n",
       "      <td>Welch</td>\n",
       "      <td>42</td>\n",
       "      <td>Grand Rapids-Kentwood, MI MSA</td>\n",
       "      <td>2018-07-11</td>\n",
       "      <td>surf</td>\n",
       "      <td>NaT</td>\n",
       "      <td>MI MSA</td>\n",
       "    </tr>\n",
       "    <tr>\n",
       "      <th>22</th>\n",
       "      <td>1007</td>\n",
       "      <td>9.0</td>\n",
       "      <td>63.0</td>\n",
       "      <td>399.0</td>\n",
       "      <td>47.0</td>\n",
       "      <td>28.0</td>\n",
       "      <td>Eusebio</td>\n",
       "      <td>Welch</td>\n",
       "      <td>42</td>\n",
       "      <td>Grand Rapids-Kentwood, MI MSA</td>\n",
       "      <td>2018-07-11</td>\n",
       "      <td>surf</td>\n",
       "      <td>NaT</td>\n",
       "      <td>MI MSA</td>\n",
       "    </tr>\n",
       "    <tr>\n",
       "      <th>23</th>\n",
       "      <td>1007</td>\n",
       "      <td>10.0</td>\n",
       "      <td>80.0</td>\n",
       "      <td>645.0</td>\n",
       "      <td>59.0</td>\n",
       "      <td>37.0</td>\n",
       "      <td>Eusebio</td>\n",
       "      <td>Welch</td>\n",
       "      <td>42</td>\n",
       "      <td>Grand Rapids-Kentwood, MI MSA</td>\n",
       "      <td>2018-07-11</td>\n",
       "      <td>surf</td>\n",
       "      <td>NaT</td>\n",
       "      <td>MI MSA</td>\n",
       "    </tr>\n",
       "    <tr>\n",
       "      <th>24</th>\n",
       "      <td>1007</td>\n",
       "      <td>11.0</td>\n",
       "      <td>80.0</td>\n",
       "      <td>524.0</td>\n",
       "      <td>48.0</td>\n",
       "      <td>24.0</td>\n",
       "      <td>Eusebio</td>\n",
       "      <td>Welch</td>\n",
       "      <td>42</td>\n",
       "      <td>Grand Rapids-Kentwood, MI MSA</td>\n",
       "      <td>2018-07-11</td>\n",
       "      <td>surf</td>\n",
       "      <td>NaT</td>\n",
       "      <td>MI MSA</td>\n",
       "    </tr>\n",
       "    <tr>\n",
       "      <th>25</th>\n",
       "      <td>1007</td>\n",
       "      <td>12.0</td>\n",
       "      <td>87.0</td>\n",
       "      <td>617.0</td>\n",
       "      <td>50.0</td>\n",
       "      <td>29.0</td>\n",
       "      <td>Eusebio</td>\n",
       "      <td>Welch</td>\n",
       "      <td>42</td>\n",
       "      <td>Grand Rapids-Kentwood, MI MSA</td>\n",
       "      <td>2018-07-11</td>\n",
       "      <td>surf</td>\n",
       "      <td>NaT</td>\n",
       "      <td>MI MSA</td>\n",
       "    </tr>\n",
       "    <tr>\n",
       "      <th>26</th>\n",
       "      <td>1008</td>\n",
       "      <td>10.0</td>\n",
       "      <td>71.0</td>\n",
       "      <td>476.0</td>\n",
       "      <td>21.0</td>\n",
       "      <td>17.0</td>\n",
       "      <td>Emely</td>\n",
       "      <td>Hoffman</td>\n",
       "      <td>53</td>\n",
       "      <td>Orlando-Kissimmee-Sanford, FL MSA</td>\n",
       "      <td>2018-08-03</td>\n",
       "      <td>ultimate</td>\n",
       "      <td>NaT</td>\n",
       "      <td>FL MSA</td>\n",
       "    </tr>\n",
       "    <tr>\n",
       "      <th>27</th>\n",
       "      <td>1008</td>\n",
       "      <td>11.0</td>\n",
       "      <td>63.0</td>\n",
       "      <td>446.0</td>\n",
       "      <td>37.0</td>\n",
       "      <td>24.0</td>\n",
       "      <td>Emely</td>\n",
       "      <td>Hoffman</td>\n",
       "      <td>53</td>\n",
       "      <td>Orlando-Kissimmee-Sanford, FL MSA</td>\n",
       "      <td>2018-08-03</td>\n",
       "      <td>ultimate</td>\n",
       "      <td>NaT</td>\n",
       "      <td>FL MSA</td>\n",
       "    </tr>\n",
       "    <tr>\n",
       "      <th>28</th>\n",
       "      <td>1008</td>\n",
       "      <td>12.0</td>\n",
       "      <td>85.0</td>\n",
       "      <td>634.0</td>\n",
       "      <td>26.0</td>\n",
       "      <td>15.0</td>\n",
       "      <td>Emely</td>\n",
       "      <td>Hoffman</td>\n",
       "      <td>53</td>\n",
       "      <td>Orlando-Kissimmee-Sanford, FL MSA</td>\n",
       "      <td>2018-08-03</td>\n",
       "      <td>ultimate</td>\n",
       "      <td>NaT</td>\n",
       "      <td>FL MSA</td>\n",
       "    </tr>\n",
       "    <tr>\n",
       "      <th>29</th>\n",
       "      <td>1009</td>\n",
       "      <td>5.0</td>\n",
       "      <td>71.0</td>\n",
       "      <td>534.0</td>\n",
       "      <td>NaN</td>\n",
       "      <td>20.0</td>\n",
       "      <td>Gerry</td>\n",
       "      <td>Little</td>\n",
       "      <td>19</td>\n",
       "      <td>San Jose-Sunnyvale-Santa Clara, CA MSA</td>\n",
       "      <td>2018-04-22</td>\n",
       "      <td>surf</td>\n",
       "      <td>NaT</td>\n",
       "      <td>CA MSA</td>\n",
       "    </tr>\n",
       "    <tr>\n",
       "      <th>30</th>\n",
       "      <td>1009</td>\n",
       "      <td>6.0</td>\n",
       "      <td>110.0</td>\n",
       "      <td>823.0</td>\n",
       "      <td>NaN</td>\n",
       "      <td>19.0</td>\n",
       "      <td>Gerry</td>\n",
       "      <td>Little</td>\n",
       "      <td>19</td>\n",
       "      <td>San Jose-Sunnyvale-Santa Clara, CA MSA</td>\n",
       "      <td>2018-04-22</td>\n",
       "      <td>surf</td>\n",
       "      <td>NaT</td>\n",
       "      <td>CA MSA</td>\n",
       "    </tr>\n",
       "    <tr>\n",
       "      <th>31</th>\n",
       "      <td>1009</td>\n",
       "      <td>7.0</td>\n",
       "      <td>124.0</td>\n",
       "      <td>880.0</td>\n",
       "      <td>NaN</td>\n",
       "      <td>30.0</td>\n",
       "      <td>Gerry</td>\n",
       "      <td>Little</td>\n",
       "      <td>19</td>\n",
       "      <td>San Jose-Sunnyvale-Santa Clara, CA MSA</td>\n",
       "      <td>2018-04-22</td>\n",
       "      <td>surf</td>\n",
       "      <td>NaT</td>\n",
       "      <td>CA MSA</td>\n",
       "    </tr>\n",
       "    <tr>\n",
       "      <th>32</th>\n",
       "      <td>1009</td>\n",
       "      <td>8.0</td>\n",
       "      <td>109.0</td>\n",
       "      <td>731.0</td>\n",
       "      <td>NaN</td>\n",
       "      <td>24.0</td>\n",
       "      <td>Gerry</td>\n",
       "      <td>Little</td>\n",
       "      <td>19</td>\n",
       "      <td>San Jose-Sunnyvale-Santa Clara, CA MSA</td>\n",
       "      <td>2018-04-22</td>\n",
       "      <td>surf</td>\n",
       "      <td>NaT</td>\n",
       "      <td>CA MSA</td>\n",
       "    </tr>\n",
       "    <tr>\n",
       "      <th>33</th>\n",
       "      <td>1009</td>\n",
       "      <td>9.0</td>\n",
       "      <td>116.0</td>\n",
       "      <td>776.0</td>\n",
       "      <td>NaN</td>\n",
       "      <td>21.0</td>\n",
       "      <td>Gerry</td>\n",
       "      <td>Little</td>\n",
       "      <td>19</td>\n",
       "      <td>San Jose-Sunnyvale-Santa Clara, CA MSA</td>\n",
       "      <td>2018-04-22</td>\n",
       "      <td>surf</td>\n",
       "      <td>NaT</td>\n",
       "      <td>CA MSA</td>\n",
       "    </tr>\n",
       "    <tr>\n",
       "      <th>34</th>\n",
       "      <td>1009</td>\n",
       "      <td>10.0</td>\n",
       "      <td>114.0</td>\n",
       "      <td>740.0</td>\n",
       "      <td>NaN</td>\n",
       "      <td>23.0</td>\n",
       "      <td>Gerry</td>\n",
       "      <td>Little</td>\n",
       "      <td>19</td>\n",
       "      <td>San Jose-Sunnyvale-Santa Clara, CA MSA</td>\n",
       "      <td>2018-04-22</td>\n",
       "      <td>surf</td>\n",
       "      <td>NaT</td>\n",
       "      <td>CA MSA</td>\n",
       "    </tr>\n",
       "    <tr>\n",
       "      <th>35</th>\n",
       "      <td>1009</td>\n",
       "      <td>11.0</td>\n",
       "      <td>105.0</td>\n",
       "      <td>714.0</td>\n",
       "      <td>NaN</td>\n",
       "      <td>25.0</td>\n",
       "      <td>Gerry</td>\n",
       "      <td>Little</td>\n",
       "      <td>19</td>\n",
       "      <td>San Jose-Sunnyvale-Santa Clara, CA MSA</td>\n",
       "      <td>2018-04-22</td>\n",
       "      <td>surf</td>\n",
       "      <td>NaT</td>\n",
       "      <td>CA MSA</td>\n",
       "    </tr>\n",
       "    <tr>\n",
       "      <th>36</th>\n",
       "      <td>1009</td>\n",
       "      <td>12.0</td>\n",
       "      <td>107.0</td>\n",
       "      <td>756.0</td>\n",
       "      <td>NaN</td>\n",
       "      <td>24.0</td>\n",
       "      <td>Gerry</td>\n",
       "      <td>Little</td>\n",
       "      <td>19</td>\n",
       "      <td>San Jose-Sunnyvale-Santa Clara, CA MSA</td>\n",
       "      <td>2018-04-22</td>\n",
       "      <td>surf</td>\n",
       "      <td>NaT</td>\n",
       "      <td>CA MSA</td>\n",
       "    </tr>\n",
       "    <tr>\n",
       "      <th>37</th>\n",
       "      <td>1010</td>\n",
       "      <td>3.0</td>\n",
       "      <td>63.0</td>\n",
       "      <td>429.0</td>\n",
       "      <td>NaN</td>\n",
       "      <td>11.0</td>\n",
       "      <td>Wilber</td>\n",
       "      <td>Blair</td>\n",
       "      <td>52</td>\n",
       "      <td>Dallas-Fort Worth-Arlington, TX MSA</td>\n",
       "      <td>2018-03-09</td>\n",
       "      <td>surf</td>\n",
       "      <td>NaT</td>\n",
       "      <td>TX MSA</td>\n",
       "    </tr>\n",
       "    <tr>\n",
       "      <th>38</th>\n",
       "      <td>1010</td>\n",
       "      <td>4.0</td>\n",
       "      <td>90.0</td>\n",
       "      <td>656.0</td>\n",
       "      <td>NaN</td>\n",
       "      <td>20.0</td>\n",
       "      <td>Wilber</td>\n",
       "      <td>Blair</td>\n",
       "      <td>52</td>\n",
       "      <td>Dallas-Fort Worth-Arlington, TX MSA</td>\n",
       "      <td>2018-03-09</td>\n",
       "      <td>surf</td>\n",
       "      <td>NaT</td>\n",
       "      <td>TX MSA</td>\n",
       "    </tr>\n",
       "    <tr>\n",
       "      <th>39</th>\n",
       "      <td>1010</td>\n",
       "      <td>5.0</td>\n",
       "      <td>81.0</td>\n",
       "      <td>532.0</td>\n",
       "      <td>NaN</td>\n",
       "      <td>16.0</td>\n",
       "      <td>Wilber</td>\n",
       "      <td>Blair</td>\n",
       "      <td>52</td>\n",
       "      <td>Dallas-Fort Worth-Arlington, TX MSA</td>\n",
       "      <td>2018-03-09</td>\n",
       "      <td>surf</td>\n",
       "      <td>NaT</td>\n",
       "      <td>TX MSA</td>\n",
       "    </tr>\n",
       "    <tr>\n",
       "      <th>40</th>\n",
       "      <td>1010</td>\n",
       "      <td>6.0</td>\n",
       "      <td>77.0</td>\n",
       "      <td>553.0</td>\n",
       "      <td>NaN</td>\n",
       "      <td>17.0</td>\n",
       "      <td>Wilber</td>\n",
       "      <td>Blair</td>\n",
       "      <td>52</td>\n",
       "      <td>Dallas-Fort Worth-Arlington, TX MSA</td>\n",
       "      <td>2018-03-09</td>\n",
       "      <td>surf</td>\n",
       "      <td>NaT</td>\n",
       "      <td>TX MSA</td>\n",
       "    </tr>\n",
       "    <tr>\n",
       "      <th>41</th>\n",
       "      <td>1010</td>\n",
       "      <td>7.0</td>\n",
       "      <td>101.0</td>\n",
       "      <td>698.0</td>\n",
       "      <td>NaN</td>\n",
       "      <td>13.0</td>\n",
       "      <td>Wilber</td>\n",
       "      <td>Blair</td>\n",
       "      <td>52</td>\n",
       "      <td>Dallas-Fort Worth-Arlington, TX MSA</td>\n",
       "      <td>2018-03-09</td>\n",
       "      <td>surf</td>\n",
       "      <td>NaT</td>\n",
       "      <td>TX MSA</td>\n",
       "    </tr>\n",
       "    <tr>\n",
       "      <th>42</th>\n",
       "      <td>1010</td>\n",
       "      <td>8.0</td>\n",
       "      <td>93.0</td>\n",
       "      <td>637.0</td>\n",
       "      <td>NaN</td>\n",
       "      <td>20.0</td>\n",
       "      <td>Wilber</td>\n",
       "      <td>Blair</td>\n",
       "      <td>52</td>\n",
       "      <td>Dallas-Fort Worth-Arlington, TX MSA</td>\n",
       "      <td>2018-03-09</td>\n",
       "      <td>surf</td>\n",
       "      <td>NaT</td>\n",
       "      <td>TX MSA</td>\n",
       "    </tr>\n",
       "    <tr>\n",
       "      <th>43</th>\n",
       "      <td>1010</td>\n",
       "      <td>9.0</td>\n",
       "      <td>83.0</td>\n",
       "      <td>601.0</td>\n",
       "      <td>NaN</td>\n",
       "      <td>17.0</td>\n",
       "      <td>Wilber</td>\n",
       "      <td>Blair</td>\n",
       "      <td>52</td>\n",
       "      <td>Dallas-Fort Worth-Arlington, TX MSA</td>\n",
       "      <td>2018-03-09</td>\n",
       "      <td>surf</td>\n",
       "      <td>NaT</td>\n",
       "      <td>TX MSA</td>\n",
       "    </tr>\n",
       "    <tr>\n",
       "      <th>44</th>\n",
       "      <td>1010</td>\n",
       "      <td>10.0</td>\n",
       "      <td>95.0</td>\n",
       "      <td>711.0</td>\n",
       "      <td>NaN</td>\n",
       "      <td>17.0</td>\n",
       "      <td>Wilber</td>\n",
       "      <td>Blair</td>\n",
       "      <td>52</td>\n",
       "      <td>Dallas-Fort Worth-Arlington, TX MSA</td>\n",
       "      <td>2018-03-09</td>\n",
       "      <td>surf</td>\n",
       "      <td>NaT</td>\n",
       "      <td>TX MSA</td>\n",
       "    </tr>\n",
       "    <tr>\n",
       "      <th>45</th>\n",
       "      <td>1010</td>\n",
       "      <td>11.0</td>\n",
       "      <td>30.0</td>\n",
       "      <td>258.0</td>\n",
       "      <td>NaN</td>\n",
       "      <td>8.0</td>\n",
       "      <td>Wilber</td>\n",
       "      <td>Blair</td>\n",
       "      <td>52</td>\n",
       "      <td>Dallas-Fort Worth-Arlington, TX MSA</td>\n",
       "      <td>2018-03-09</td>\n",
       "      <td>surf</td>\n",
       "      <td>NaT</td>\n",
       "      <td>TX MSA</td>\n",
       "    </tr>\n",
       "    <tr>\n",
       "      <th>46</th>\n",
       "      <td>1011</td>\n",
       "      <td>6.0</td>\n",
       "      <td>19.0</td>\n",
       "      <td>118.0</td>\n",
       "      <td>21.0</td>\n",
       "      <td>7.0</td>\n",
       "      <td>Halina</td>\n",
       "      <td>Henry</td>\n",
       "      <td>73</td>\n",
       "      <td>Cleveland-Elyria, OH MSA</td>\n",
       "      <td>2018-01-18</td>\n",
       "      <td>ultimate</td>\n",
       "      <td>NaT</td>\n",
       "      <td>OH MSA</td>\n",
       "    </tr>\n",
       "    <tr>\n",
       "      <th>47</th>\n",
       "      <td>1011</td>\n",
       "      <td>7.0</td>\n",
       "      <td>63.0</td>\n",
       "      <td>499.0</td>\n",
       "      <td>53.0</td>\n",
       "      <td>21.0</td>\n",
       "      <td>Halina</td>\n",
       "      <td>Henry</td>\n",
       "      <td>73</td>\n",
       "      <td>Cleveland-Elyria, OH MSA</td>\n",
       "      <td>2018-01-18</td>\n",
       "      <td>ultimate</td>\n",
       "      <td>NaT</td>\n",
       "      <td>OH MSA</td>\n",
       "    </tr>\n",
       "    <tr>\n",
       "      <th>48</th>\n",
       "      <td>1011</td>\n",
       "      <td>8.0</td>\n",
       "      <td>61.0</td>\n",
       "      <td>486.0</td>\n",
       "      <td>54.0</td>\n",
       "      <td>21.0</td>\n",
       "      <td>Halina</td>\n",
       "      <td>Henry</td>\n",
       "      <td>73</td>\n",
       "      <td>Cleveland-Elyria, OH MSA</td>\n",
       "      <td>2018-01-18</td>\n",
       "      <td>ultimate</td>\n",
       "      <td>NaT</td>\n",
       "      <td>OH MSA</td>\n",
       "    </tr>\n",
       "    <tr>\n",
       "      <th>49</th>\n",
       "      <td>1011</td>\n",
       "      <td>9.0</td>\n",
       "      <td>73.0</td>\n",
       "      <td>484.0</td>\n",
       "      <td>60.0</td>\n",
       "      <td>17.0</td>\n",
       "      <td>Halina</td>\n",
       "      <td>Henry</td>\n",
       "      <td>73</td>\n",
       "      <td>Cleveland-Elyria, OH MSA</td>\n",
       "      <td>2018-01-18</td>\n",
       "      <td>ultimate</td>\n",
       "      <td>NaT</td>\n",
       "      <td>OH MSA</td>\n",
       "    </tr>\n",
       "  </tbody>\n",
       "</table>\n",
       "</div>"
      ],
      "text/plain": [
       "    user_id  month  num_calls_made  minutes_per_month  num_messages  gb_used  \\\n",
       "0      1000   12.0            16.0              124.0          11.0      2.0   \n",
       "1      1001    8.0            27.0              182.0          30.0      7.0   \n",
       "2      1001    9.0            49.0              315.0          44.0     14.0   \n",
       "3      1001   10.0            65.0              393.0          53.0     22.0   \n",
       "4      1001   11.0            64.0              426.0          36.0     19.0   \n",
       "5      1001   12.0            56.0              412.0          44.0     19.0   \n",
       "6      1002   10.0            11.0               59.0          15.0      7.0   \n",
       "7      1002   11.0            55.0              386.0          32.0     19.0   \n",
       "8      1002   12.0            47.0              384.0          41.0     15.0   \n",
       "9      1003   12.0           149.0             1104.0          50.0     27.0   \n",
       "10     1004    5.0            21.0              193.0           7.0      7.0   \n",
       "11     1004    6.0            44.0              275.0          18.0     21.0   \n",
       "12     1004    7.0            49.0              381.0          26.0     24.0   \n",
       "13     1004    8.0            49.0              354.0          25.0     28.0   \n",
       "14     1004    9.0            42.0              301.0          21.0     19.0   \n",
       "15     1004   10.0            61.0              365.0          24.0     15.0   \n",
       "16     1004   11.0            54.0              476.0          25.0     22.0   \n",
       "17     1004   12.0            50.0              427.0          31.0     21.0   \n",
       "18     1005   12.0            59.0              496.0          11.0     17.0   \n",
       "19     1006   11.0             2.0               10.0          15.0      3.0   \n",
       "20     1006   12.0             9.0               59.0         139.0     32.0   \n",
       "21     1007    8.0            70.0              456.0          51.0     24.0   \n",
       "22     1007    9.0            63.0              399.0          47.0     28.0   \n",
       "23     1007   10.0            80.0              645.0          59.0     37.0   \n",
       "24     1007   11.0            80.0              524.0          48.0     24.0   \n",
       "25     1007   12.0            87.0              617.0          50.0     29.0   \n",
       "26     1008   10.0            71.0              476.0          21.0     17.0   \n",
       "27     1008   11.0            63.0              446.0          37.0     24.0   \n",
       "28     1008   12.0            85.0              634.0          26.0     15.0   \n",
       "29     1009    5.0            71.0              534.0           NaN     20.0   \n",
       "30     1009    6.0           110.0              823.0           NaN     19.0   \n",
       "31     1009    7.0           124.0              880.0           NaN     30.0   \n",
       "32     1009    8.0           109.0              731.0           NaN     24.0   \n",
       "33     1009    9.0           116.0              776.0           NaN     21.0   \n",
       "34     1009   10.0           114.0              740.0           NaN     23.0   \n",
       "35     1009   11.0           105.0              714.0           NaN     25.0   \n",
       "36     1009   12.0           107.0              756.0           NaN     24.0   \n",
       "37     1010    3.0            63.0              429.0           NaN     11.0   \n",
       "38     1010    4.0            90.0              656.0           NaN     20.0   \n",
       "39     1010    5.0            81.0              532.0           NaN     16.0   \n",
       "40     1010    6.0            77.0              553.0           NaN     17.0   \n",
       "41     1010    7.0           101.0              698.0           NaN     13.0   \n",
       "42     1010    8.0            93.0              637.0           NaN     20.0   \n",
       "43     1010    9.0            83.0              601.0           NaN     17.0   \n",
       "44     1010   10.0            95.0              711.0           NaN     17.0   \n",
       "45     1010   11.0            30.0              258.0           NaN      8.0   \n",
       "46     1011    6.0            19.0              118.0          21.0      7.0   \n",
       "47     1011    7.0            63.0              499.0          53.0     21.0   \n",
       "48     1011    8.0            61.0              486.0          54.0     21.0   \n",
       "49     1011    9.0            73.0              484.0          60.0     17.0   \n",
       "\n",
       "   first_name  last_name  age                                    city  \\\n",
       "0    Anamaria      Bauer   45   Atlanta-Sandy Springs-Roswell, GA MSA   \n",
       "1      Mickey  Wilkerson   28         Seattle-Tacoma-Bellevue, WA MSA   \n",
       "2      Mickey  Wilkerson   28         Seattle-Tacoma-Bellevue, WA MSA   \n",
       "3      Mickey  Wilkerson   28         Seattle-Tacoma-Bellevue, WA MSA   \n",
       "4      Mickey  Wilkerson   28         Seattle-Tacoma-Bellevue, WA MSA   \n",
       "5      Mickey  Wilkerson   28         Seattle-Tacoma-Bellevue, WA MSA   \n",
       "6      Carlee    Hoffman   36    Las Vegas-Henderson-Paradise, NV MSA   \n",
       "7      Carlee    Hoffman   36    Las Vegas-Henderson-Paradise, NV MSA   \n",
       "8      Carlee    Hoffman   36    Las Vegas-Henderson-Paradise, NV MSA   \n",
       "9    Reynaldo    Jenkins   52                           Tulsa, OK MSA   \n",
       "10    Leonila   Thompson   40         Seattle-Tacoma-Bellevue, WA MSA   \n",
       "11    Leonila   Thompson   40         Seattle-Tacoma-Bellevue, WA MSA   \n",
       "12    Leonila   Thompson   40         Seattle-Tacoma-Bellevue, WA MSA   \n",
       "13    Leonila   Thompson   40         Seattle-Tacoma-Bellevue, WA MSA   \n",
       "14    Leonila   Thompson   40         Seattle-Tacoma-Bellevue, WA MSA   \n",
       "15    Leonila   Thompson   40         Seattle-Tacoma-Bellevue, WA MSA   \n",
       "16    Leonila   Thompson   40         Seattle-Tacoma-Bellevue, WA MSA   \n",
       "17    Leonila   Thompson   40         Seattle-Tacoma-Bellevue, WA MSA   \n",
       "18      Livia    Shields   31     Dallas-Fort Worth-Arlington, TX MSA   \n",
       "19     Jesusa   Bradford   73  San Francisco-Oakland-Berkeley, CA MSA   \n",
       "20     Jesusa   Bradford   73  San Francisco-Oakland-Berkeley, CA MSA   \n",
       "21    Eusebio      Welch   42           Grand Rapids-Kentwood, MI MSA   \n",
       "22    Eusebio      Welch   42           Grand Rapids-Kentwood, MI MSA   \n",
       "23    Eusebio      Welch   42           Grand Rapids-Kentwood, MI MSA   \n",
       "24    Eusebio      Welch   42           Grand Rapids-Kentwood, MI MSA   \n",
       "25    Eusebio      Welch   42           Grand Rapids-Kentwood, MI MSA   \n",
       "26      Emely    Hoffman   53       Orlando-Kissimmee-Sanford, FL MSA   \n",
       "27      Emely    Hoffman   53       Orlando-Kissimmee-Sanford, FL MSA   \n",
       "28      Emely    Hoffman   53       Orlando-Kissimmee-Sanford, FL MSA   \n",
       "29      Gerry     Little   19  San Jose-Sunnyvale-Santa Clara, CA MSA   \n",
       "30      Gerry     Little   19  San Jose-Sunnyvale-Santa Clara, CA MSA   \n",
       "31      Gerry     Little   19  San Jose-Sunnyvale-Santa Clara, CA MSA   \n",
       "32      Gerry     Little   19  San Jose-Sunnyvale-Santa Clara, CA MSA   \n",
       "33      Gerry     Little   19  San Jose-Sunnyvale-Santa Clara, CA MSA   \n",
       "34      Gerry     Little   19  San Jose-Sunnyvale-Santa Clara, CA MSA   \n",
       "35      Gerry     Little   19  San Jose-Sunnyvale-Santa Clara, CA MSA   \n",
       "36      Gerry     Little   19  San Jose-Sunnyvale-Santa Clara, CA MSA   \n",
       "37     Wilber      Blair   52     Dallas-Fort Worth-Arlington, TX MSA   \n",
       "38     Wilber      Blair   52     Dallas-Fort Worth-Arlington, TX MSA   \n",
       "39     Wilber      Blair   52     Dallas-Fort Worth-Arlington, TX MSA   \n",
       "40     Wilber      Blair   52     Dallas-Fort Worth-Arlington, TX MSA   \n",
       "41     Wilber      Blair   52     Dallas-Fort Worth-Arlington, TX MSA   \n",
       "42     Wilber      Blair   52     Dallas-Fort Worth-Arlington, TX MSA   \n",
       "43     Wilber      Blair   52     Dallas-Fort Worth-Arlington, TX MSA   \n",
       "44     Wilber      Blair   52     Dallas-Fort Worth-Arlington, TX MSA   \n",
       "45     Wilber      Blair   52     Dallas-Fort Worth-Arlington, TX MSA   \n",
       "46     Halina      Henry   73                Cleveland-Elyria, OH MSA   \n",
       "47     Halina      Henry   73                Cleveland-Elyria, OH MSA   \n",
       "48     Halina      Henry   73                Cleveland-Elyria, OH MSA   \n",
       "49     Halina      Henry   73                Cleveland-Elyria, OH MSA   \n",
       "\n",
       "     reg_date      plan churn_date   state  \n",
       "0  2018-12-24  ultimate        NaT  GA MSA  \n",
       "1  2018-08-13      surf        NaT  WA MSA  \n",
       "2  2018-08-13      surf        NaT  WA MSA  \n",
       "3  2018-08-13      surf        NaT  WA MSA  \n",
       "4  2018-08-13      surf        NaT  WA MSA  \n",
       "5  2018-08-13      surf        NaT  WA MSA  \n",
       "6  2018-10-21      surf        NaT  NV MSA  \n",
       "7  2018-10-21      surf        NaT  NV MSA  \n",
       "8  2018-10-21      surf        NaT  NV MSA  \n",
       "9  2018-01-28      surf        NaT  OK MSA  \n",
       "10 2018-05-23      surf        NaT  WA MSA  \n",
       "11 2018-05-23      surf        NaT  WA MSA  \n",
       "12 2018-05-23      surf        NaT  WA MSA  \n",
       "13 2018-05-23      surf        NaT  WA MSA  \n",
       "14 2018-05-23      surf        NaT  WA MSA  \n",
       "15 2018-05-23      surf        NaT  WA MSA  \n",
       "16 2018-05-23      surf        NaT  WA MSA  \n",
       "17 2018-05-23      surf        NaT  WA MSA  \n",
       "18 2018-11-29      surf        NaT  TX MSA  \n",
       "19 2018-11-27  ultimate 2018-12-18  CA MSA  \n",
       "20 2018-11-27  ultimate 2018-12-18  CA MSA  \n",
       "21 2018-07-11      surf        NaT  MI MSA  \n",
       "22 2018-07-11      surf        NaT  MI MSA  \n",
       "23 2018-07-11      surf        NaT  MI MSA  \n",
       "24 2018-07-11      surf        NaT  MI MSA  \n",
       "25 2018-07-11      surf        NaT  MI MSA  \n",
       "26 2018-08-03  ultimate        NaT  FL MSA  \n",
       "27 2018-08-03  ultimate        NaT  FL MSA  \n",
       "28 2018-08-03  ultimate        NaT  FL MSA  \n",
       "29 2018-04-22      surf        NaT  CA MSA  \n",
       "30 2018-04-22      surf        NaT  CA MSA  \n",
       "31 2018-04-22      surf        NaT  CA MSA  \n",
       "32 2018-04-22      surf        NaT  CA MSA  \n",
       "33 2018-04-22      surf        NaT  CA MSA  \n",
       "34 2018-04-22      surf        NaT  CA MSA  \n",
       "35 2018-04-22      surf        NaT  CA MSA  \n",
       "36 2018-04-22      surf        NaT  CA MSA  \n",
       "37 2018-03-09      surf        NaT  TX MSA  \n",
       "38 2018-03-09      surf        NaT  TX MSA  \n",
       "39 2018-03-09      surf        NaT  TX MSA  \n",
       "40 2018-03-09      surf        NaT  TX MSA  \n",
       "41 2018-03-09      surf        NaT  TX MSA  \n",
       "42 2018-03-09      surf        NaT  TX MSA  \n",
       "43 2018-03-09      surf        NaT  TX MSA  \n",
       "44 2018-03-09      surf        NaT  TX MSA  \n",
       "45 2018-03-09      surf        NaT  TX MSA  \n",
       "46 2018-01-18  ultimate        NaT  OH MSA  \n",
       "47 2018-01-18  ultimate        NaT  OH MSA  \n",
       "48 2018-01-18  ultimate        NaT  OH MSA  \n",
       "49 2018-01-18  ultimate        NaT  OH MSA  "
      ]
     },
     "execution_count": 24,
     "metadata": {},
     "output_type": "execute_result"
    }
   ],
   "source": [
    "# Merge the data for calls, minutes, messages, internet based on user_id and month\n",
    "mb_gb_used_per_month\n",
    "\n",
    " \n",
    "num_call_min_month = pd.merge(num_calls_made, minutes_per_month, on=['user_id', 'month'], how='outer')\n",
    "call_msg_minute = pd.merge(num_call_min_month, msg_sent_user, on=['user_id', 'month'], how='outer')\n",
    "merge_df = pd.merge(call_msg_minute, mb_gb_used_per_month, on=['user_id', 'month'], how='outer')\n",
    "merged_df = pd.merge(merge_df, megaline_users, on=['user_id'], how='outer')\n",
    "\n",
    "merged_df.head(50)\n",
    "\n",
    "\n",
    "\n"
   ]
  },
  {
   "cell_type": "markdown",
   "metadata": {},
   "source": [
    "<div class=\"alert alert-block alert-danger\">\n",
    "<b>Reviewer's comment</b> <a class=\"tocSkip\"></a>\n",
    "\n",
    "Let's take a look at what happened.\n",
    "    \n",
    "We need to join (merge) tables by user_id and month. Also, we need to choose appropriate join strategy (left, inner, right, outer). Do not forget that we can have persons, who do not use sms, for example, but use internet.\n",
    "</div>"
   ]
  },
  {
   "cell_type": "markdown",
   "metadata": {},
   "source": [
    "<div class=\"alert alert-block alert-warning\">\n",
    "<b>Reviewer's comment</b> <a class=\"tocSkip\"></a>\n",
    "\n",
    "Pro tip: do not forget to check table after join. We need to save all clients in table.\n",
    "</div>"
   ]
  },
  {
   "cell_type": "markdown",
   "metadata": {},
   "source": [
    "<div class=\"alert alert-block alert-info\">\n",
    "<b>I'm pretty sure I figured it out and that this is correct! :).<a class=\"tocSkip\"></a>\n",
    "</div>"
   ]
  },
  {
   "cell_type": "markdown",
   "metadata": {},
   "source": [
    "<div class=\"alert alert-block alert-success\">\n",
    "<b>Reviewer's comment</b> <a class=\"tocSkip\"></a>\n",
    "\n",
    "Yep, you are right! Now join is correct.\n",
    "    \n",
    "Pro tip: it's a good practice to check shape of resulting df + check number of unique users to avoid duplicates.\n",
    "</div>"
   ]
  },
  {
   "cell_type": "markdown",
   "metadata": {},
   "source": [
    "#### Merged the dataframes together so that we can see the minutes per customer, gb's per customer, and messages sent per customer in one dataframe and compare the data. "
   ]
  },
  {
   "cell_type": "code",
   "execution_count": 25,
   "metadata": {
    "scrolled": true
   },
   "outputs": [
    {
     "data": {
      "text/html": [
       "<div>\n",
       "<style scoped>\n",
       "    .dataframe tbody tr th:only-of-type {\n",
       "        vertical-align: middle;\n",
       "    }\n",
       "\n",
       "    .dataframe tbody tr th {\n",
       "        vertical-align: top;\n",
       "    }\n",
       "\n",
       "    .dataframe thead th {\n",
       "        text-align: right;\n",
       "    }\n",
       "</style>\n",
       "<table border=\"1\" class=\"dataframe\">\n",
       "  <thead>\n",
       "    <tr style=\"text-align: right;\">\n",
       "      <th></th>\n",
       "      <th>messages_included</th>\n",
       "      <th>mb_per_month_included</th>\n",
       "      <th>minutes_included</th>\n",
       "      <th>usd_monthly_pay</th>\n",
       "      <th>usd_per_gb</th>\n",
       "      <th>usd_per_message</th>\n",
       "      <th>usd_per_minute</th>\n",
       "      <th>plan_name</th>\n",
       "    </tr>\n",
       "  </thead>\n",
       "  <tbody>\n",
       "    <tr>\n",
       "      <th>0</th>\n",
       "      <td>50</td>\n",
       "      <td>15360</td>\n",
       "      <td>500</td>\n",
       "      <td>20</td>\n",
       "      <td>10</td>\n",
       "      <td>0.03</td>\n",
       "      <td>0.03</td>\n",
       "      <td>surf</td>\n",
       "    </tr>\n",
       "    <tr>\n",
       "      <th>1</th>\n",
       "      <td>1000</td>\n",
       "      <td>30720</td>\n",
       "      <td>3000</td>\n",
       "      <td>70</td>\n",
       "      <td>7</td>\n",
       "      <td>0.01</td>\n",
       "      <td>0.01</td>\n",
       "      <td>ultimate</td>\n",
       "    </tr>\n",
       "  </tbody>\n",
       "</table>\n",
       "</div>"
      ],
      "text/plain": [
       "   messages_included  mb_per_month_included  minutes_included  \\\n",
       "0                 50                  15360               500   \n",
       "1               1000                  30720              3000   \n",
       "\n",
       "   usd_monthly_pay  usd_per_gb  usd_per_message  usd_per_minute plan_name  \n",
       "0               20          10             0.03            0.03      surf  \n",
       "1               70           7             0.01            0.01  ultimate  "
      ]
     },
     "execution_count": 25,
     "metadata": {},
     "output_type": "execute_result"
    }
   ],
   "source": [
    "# Add the plan information\n",
    "megaline_plans\n"
   ]
  },
  {
   "cell_type": "markdown",
   "metadata": {},
   "source": [
    "[Calculate the monthly revenue from each user (subtract the free package limit from the total number of calls, text messages, and data; multiply the result by the calling plan value; add the monthly charge depending on the calling plan). N.B. This might not be as trivial as just a couple of lines given the plan conditions! So, it's okay to spend some time on it.]"
   ]
  },
  {
   "cell_type": "code",
   "execution_count": 26,
   "metadata": {
    "scrolled": false
   },
   "outputs": [
    {
     "data": {
      "text/html": [
       "<div>\n",
       "<style scoped>\n",
       "    .dataframe tbody tr th:only-of-type {\n",
       "        vertical-align: middle;\n",
       "    }\n",
       "\n",
       "    .dataframe tbody tr th {\n",
       "        vertical-align: top;\n",
       "    }\n",
       "\n",
       "    .dataframe thead th {\n",
       "        text-align: right;\n",
       "    }\n",
       "</style>\n",
       "<table border=\"1\" class=\"dataframe\">\n",
       "  <thead>\n",
       "    <tr style=\"text-align: right;\">\n",
       "      <th></th>\n",
       "      <th>user_id</th>\n",
       "      <th>month</th>\n",
       "      <th>num_calls_made</th>\n",
       "      <th>minutes_per_month</th>\n",
       "      <th>num_messages</th>\n",
       "      <th>gb_used</th>\n",
       "      <th>city</th>\n",
       "      <th>reg_date</th>\n",
       "      <th>plan</th>\n",
       "      <th>state</th>\n",
       "      <th>total_revenue_surf</th>\n",
       "      <th>total_revenue_ultimate</th>\n",
       "    </tr>\n",
       "  </thead>\n",
       "  <tbody>\n",
       "    <tr>\n",
       "      <th>0</th>\n",
       "      <td>1000</td>\n",
       "      <td>12.0</td>\n",
       "      <td>16.0</td>\n",
       "      <td>124.0</td>\n",
       "      <td>11.0</td>\n",
       "      <td>2.0</td>\n",
       "      <td>Atlanta-Sandy Springs-Roswell, GA MSA</td>\n",
       "      <td>2018-12-24</td>\n",
       "      <td>ultimate</td>\n",
       "      <td>GA MSA</td>\n",
       "      <td>20.00</td>\n",
       "      <td>70.0</td>\n",
       "    </tr>\n",
       "    <tr>\n",
       "      <th>1</th>\n",
       "      <td>1001</td>\n",
       "      <td>8.0</td>\n",
       "      <td>27.0</td>\n",
       "      <td>182.0</td>\n",
       "      <td>30.0</td>\n",
       "      <td>7.0</td>\n",
       "      <td>Seattle-Tacoma-Bellevue, WA MSA</td>\n",
       "      <td>2018-08-13</td>\n",
       "      <td>surf</td>\n",
       "      <td>WA MSA</td>\n",
       "      <td>20.00</td>\n",
       "      <td>70.0</td>\n",
       "    </tr>\n",
       "    <tr>\n",
       "      <th>2</th>\n",
       "      <td>1001</td>\n",
       "      <td>9.0</td>\n",
       "      <td>49.0</td>\n",
       "      <td>315.0</td>\n",
       "      <td>44.0</td>\n",
       "      <td>14.0</td>\n",
       "      <td>Seattle-Tacoma-Bellevue, WA MSA</td>\n",
       "      <td>2018-08-13</td>\n",
       "      <td>surf</td>\n",
       "      <td>WA MSA</td>\n",
       "      <td>20.00</td>\n",
       "      <td>70.0</td>\n",
       "    </tr>\n",
       "    <tr>\n",
       "      <th>3</th>\n",
       "      <td>1001</td>\n",
       "      <td>10.0</td>\n",
       "      <td>65.0</td>\n",
       "      <td>393.0</td>\n",
       "      <td>53.0</td>\n",
       "      <td>22.0</td>\n",
       "      <td>Seattle-Tacoma-Bellevue, WA MSA</td>\n",
       "      <td>2018-08-13</td>\n",
       "      <td>surf</td>\n",
       "      <td>WA MSA</td>\n",
       "      <td>90.09</td>\n",
       "      <td>70.0</td>\n",
       "    </tr>\n",
       "    <tr>\n",
       "      <th>4</th>\n",
       "      <td>1001</td>\n",
       "      <td>11.0</td>\n",
       "      <td>64.0</td>\n",
       "      <td>426.0</td>\n",
       "      <td>36.0</td>\n",
       "      <td>19.0</td>\n",
       "      <td>Seattle-Tacoma-Bellevue, WA MSA</td>\n",
       "      <td>2018-08-13</td>\n",
       "      <td>surf</td>\n",
       "      <td>WA MSA</td>\n",
       "      <td>60.00</td>\n",
       "      <td>70.0</td>\n",
       "    </tr>\n",
       "  </tbody>\n",
       "</table>\n",
       "</div>"
      ],
      "text/plain": [
       "   user_id  month  num_calls_made  minutes_per_month  num_messages  gb_used  \\\n",
       "0     1000   12.0            16.0              124.0          11.0      2.0   \n",
       "1     1001    8.0            27.0              182.0          30.0      7.0   \n",
       "2     1001    9.0            49.0              315.0          44.0     14.0   \n",
       "3     1001   10.0            65.0              393.0          53.0     22.0   \n",
       "4     1001   11.0            64.0              426.0          36.0     19.0   \n",
       "\n",
       "                                    city   reg_date      plan   state  \\\n",
       "0  Atlanta-Sandy Springs-Roswell, GA MSA 2018-12-24  ultimate  GA MSA   \n",
       "1        Seattle-Tacoma-Bellevue, WA MSA 2018-08-13      surf  WA MSA   \n",
       "2        Seattle-Tacoma-Bellevue, WA MSA 2018-08-13      surf  WA MSA   \n",
       "3        Seattle-Tacoma-Bellevue, WA MSA 2018-08-13      surf  WA MSA   \n",
       "4        Seattle-Tacoma-Bellevue, WA MSA 2018-08-13      surf  WA MSA   \n",
       "\n",
       "   total_revenue_surf  total_revenue_ultimate  \n",
       "0               20.00                    70.0  \n",
       "1               20.00                    70.0  \n",
       "2               20.00                    70.0  \n",
       "3               90.09                    70.0  \n",
       "4               60.00                    70.0  "
      ]
     },
     "execution_count": 26,
     "metadata": {},
     "output_type": "execute_result"
    }
   ],
   "source": [
    "# Calculate the monthly revenue for each user\n",
    "def minute_revenue_surf(minutes): #num_messages, gb_used):\n",
    "    total = megaline_plans['usd_monthly_pay'][0]\n",
    "    \n",
    "    if minutes > megaline_plans['minutes_included'][0]:\n",
    "        over_minutes = minutes - (megaline_plans['minutes_included'][0])\n",
    "        total += over_minutes * (megaline_plans['usd_per_minute'][0])\n",
    "    return total\n",
    "\n",
    "def message_revenue_surf(num_messages):\n",
    "    total = 0\n",
    "    if num_messages > megaline_plans['messages_included'][0]:\n",
    "        over_messages = num_messages - (megaline_plans['messages_included'][0])\n",
    "        total += over_messages * (megaline_plans['usd_per_message'][0])\n",
    "    return total\n",
    "\n",
    "def gb_revenue_surf(gb_used):\n",
    "    total = 0\n",
    "    if gb_used > 15:\n",
    "        over_gb = gb_used - (15)\n",
    "        total += over_gb * (megaline_plans['usd_per_gb'][0])\n",
    "    return total\n",
    "    \n",
    "    \n",
    "\n",
    "def minute_revenue_ultimate(minutes):\n",
    "    total = megaline_plans['usd_monthly_pay'][1]\n",
    "    \n",
    "    if minutes > megaline_plans['minutes_included'][1]:\n",
    "        over_minutes = minutes - (megaline_plans['minutes_included'][1])\n",
    "        total += over_minutes * (megaline_plans['usd_per_minute'][1])\n",
    "    return total\n",
    "\n",
    "def message_revenue_ultimate(num_messages):\n",
    "    total = 0\n",
    "    if num_messages > megaline_plans['messages_included'][1]:\n",
    "        over_messages = num_messages - (megaline_plans['messages_included'][1])\n",
    "        total += over_messages * (megaline_plans['usd_per_message'][1])\n",
    "    return total\n",
    "\n",
    "def gb_revenue_ultimate(gb_used):\n",
    "    total = 0\n",
    "    if gb_used > 30:\n",
    "        over_gb = gb_used - (30)\n",
    "        total += over_gb * (megaline_plans['usd_per_gb'][1])\n",
    "    return total\n",
    "\n",
    "\n",
    "merged_df['minute_revenue_surf'] = merged_df['minutes_per_month'].apply(minute_revenue_surf)\n",
    "merged_df['message_revenue_surf'] = merged_df['num_messages'].apply(message_revenue_surf)\n",
    "merged_df['gb_revenue_surf'] = merged_df['gb_used'].apply(gb_revenue_surf)\n",
    "merged_df['total_revenue_surf'] = merged_df['minute_revenue_surf'] + merged_df['message_revenue_surf'] + merged_df['gb_revenue_surf']\n",
    "\n",
    "merged_df['minute_revenue_ultimate'] = merged_df['minutes_per_month'].apply(minute_revenue_ultimate)\n",
    "merged_df['message_revenue_ultimate'] = merged_df['num_messages'].apply(message_revenue_ultimate)\n",
    "merged_df['gb_revenue_ultimate'] = merged_df['gb_used'].apply(gb_revenue_ultimate)\n",
    "merged_df['total_revenue_ultimate'] = merged_df['minute_revenue_ultimate'] + merged_df['message_revenue_ultimate'] + merged_df['gb_revenue_ultimate']\n",
    "\n",
    "new_df = merged_df.drop(['minute_revenue_surf', 'message_revenue_surf', 'gb_revenue_surf', 'minute_revenue_ultimate', 'message_revenue_ultimate', 'gb_revenue_ultimate'], axis=1)\n",
    "\n",
    "new_df.merge(megaline_users)\n",
    "df_updated = new_df.drop(['first_name', 'last_name', 'age', 'churn_date'], axis=1)\n",
    "df_updated.head()\n",
    "\n",
    "\n",
    "    \n"
   ]
  },
  {
   "cell_type": "markdown",
   "metadata": {},
   "source": [
    "<div class=\"alert alert-block alert-danger\">\n",
    "<b>Reviewer's comment</b> <a class=\"tocSkip\"></a>\n",
    "\n",
    "It's not a good practice to hardcode some values... 15 and 30 Gb we have in megaline_plans in column mb_per_month_included.\n",
    "</div>"
   ]
  },
  {
   "cell_type": "markdown",
   "metadata": {},
   "source": [
    "<div class=\"alert alert-block alert-info\">\n",
    "I'm confused about what you mean? Can you give more information?<a class=\"tocSkip\"></a>\n",
    "</div>"
   ]
  },
  {
   "cell_type": "markdown",
   "metadata": {},
   "source": [
    "<div class=\"alert alert-block alert-warning\">\n",
    "<b>Reviewer's comment</b> <a class=\"tocSkip\"></a>\n",
    "\n",
    "We can change hardcode values to values from megaline_plans df.\n",
    "    \n",
    "I mean this functions:\n",
    "</div>"
   ]
  },
  {
   "cell_type": "code",
   "execution_count": 27,
   "metadata": {},
   "outputs": [],
   "source": [
    "# reviewer's example\n",
    "\n",
    "def gb_revenue_surf(gb_used):\n",
    "    total = 0\n",
    "    if gb_used > 15: # This line\n",
    "        over_gb = gb_used - (15) # This line\n",
    "        total += over_gb * (megaline_plans['usd_per_gb'][0])\n",
    "    return total\n",
    "\n",
    "def gb_revenue_ultimate(gb_used):\n",
    "    total = 0\n",
    "    if gb_used > 30: # This line\n",
    "        over_gb = gb_used - (30) # This line\n",
    "        total += over_gb * (megaline_plans['usd_per_gb'][1])\n",
    "    return total"
   ]
  },
  {
   "cell_type": "markdown",
   "metadata": {},
   "source": [
    "#### Created two columns in the dataframe that give the total revenue if the client has the surf plan and a total revenue if the client has the ultimate plan. This can help the company to compare the amount they would make if every client had one plan or the other."
   ]
  },
  {
   "cell_type": "code",
   "execution_count": 28,
   "metadata": {},
   "outputs": [
    {
     "data": {
      "text/html": [
       "<div>\n",
       "<style scoped>\n",
       "    .dataframe tbody tr th:only-of-type {\n",
       "        vertical-align: middle;\n",
       "    }\n",
       "\n",
       "    .dataframe tbody tr th {\n",
       "        vertical-align: top;\n",
       "    }\n",
       "\n",
       "    .dataframe thead th {\n",
       "        text-align: right;\n",
       "    }\n",
       "</style>\n",
       "<table border=\"1\" class=\"dataframe\">\n",
       "  <thead>\n",
       "    <tr style=\"text-align: right;\">\n",
       "      <th></th>\n",
       "      <th>user_id</th>\n",
       "      <th>month</th>\n",
       "      <th>num_calls_made</th>\n",
       "      <th>minutes_per_month</th>\n",
       "      <th>num_messages</th>\n",
       "      <th>gb_used</th>\n",
       "      <th>reg_date</th>\n",
       "      <th>plan</th>\n",
       "      <th>state</th>\n",
       "      <th>total_revenue_ultimate</th>\n",
       "    </tr>\n",
       "  </thead>\n",
       "  <tbody>\n",
       "    <tr>\n",
       "      <th>0</th>\n",
       "      <td>1000</td>\n",
       "      <td>12.0</td>\n",
       "      <td>16.0</td>\n",
       "      <td>124.0</td>\n",
       "      <td>11.0</td>\n",
       "      <td>2.0</td>\n",
       "      <td>2018-12-24</td>\n",
       "      <td>ultimate</td>\n",
       "      <td>GA MSA</td>\n",
       "      <td>70.0</td>\n",
       "    </tr>\n",
       "    <tr>\n",
       "      <th>19</th>\n",
       "      <td>1006</td>\n",
       "      <td>11.0</td>\n",
       "      <td>2.0</td>\n",
       "      <td>10.0</td>\n",
       "      <td>15.0</td>\n",
       "      <td>3.0</td>\n",
       "      <td>2018-11-27</td>\n",
       "      <td>ultimate</td>\n",
       "      <td>CA MSA</td>\n",
       "      <td>70.0</td>\n",
       "    </tr>\n",
       "    <tr>\n",
       "      <th>20</th>\n",
       "      <td>1006</td>\n",
       "      <td>12.0</td>\n",
       "      <td>9.0</td>\n",
       "      <td>59.0</td>\n",
       "      <td>139.0</td>\n",
       "      <td>32.0</td>\n",
       "      <td>2018-11-27</td>\n",
       "      <td>ultimate</td>\n",
       "      <td>CA MSA</td>\n",
       "      <td>84.0</td>\n",
       "    </tr>\n",
       "    <tr>\n",
       "      <th>26</th>\n",
       "      <td>1008</td>\n",
       "      <td>10.0</td>\n",
       "      <td>71.0</td>\n",
       "      <td>476.0</td>\n",
       "      <td>21.0</td>\n",
       "      <td>17.0</td>\n",
       "      <td>2018-08-03</td>\n",
       "      <td>ultimate</td>\n",
       "      <td>FL MSA</td>\n",
       "      <td>70.0</td>\n",
       "    </tr>\n",
       "    <tr>\n",
       "      <th>27</th>\n",
       "      <td>1008</td>\n",
       "      <td>11.0</td>\n",
       "      <td>63.0</td>\n",
       "      <td>446.0</td>\n",
       "      <td>37.0</td>\n",
       "      <td>24.0</td>\n",
       "      <td>2018-08-03</td>\n",
       "      <td>ultimate</td>\n",
       "      <td>FL MSA</td>\n",
       "      <td>70.0</td>\n",
       "    </tr>\n",
       "  </tbody>\n",
       "</table>\n",
       "</div>"
      ],
      "text/plain": [
       "    user_id  month  num_calls_made  minutes_per_month  num_messages  gb_used  \\\n",
       "0      1000   12.0            16.0              124.0          11.0      2.0   \n",
       "19     1006   11.0             2.0               10.0          15.0      3.0   \n",
       "20     1006   12.0             9.0               59.0         139.0     32.0   \n",
       "26     1008   10.0            71.0              476.0          21.0     17.0   \n",
       "27     1008   11.0            63.0              446.0          37.0     24.0   \n",
       "\n",
       "     reg_date      plan   state  total_revenue_ultimate  \n",
       "0  2018-12-24  ultimate  GA MSA                    70.0  \n",
       "19 2018-11-27  ultimate  CA MSA                    70.0  \n",
       "20 2018-11-27  ultimate  CA MSA                    84.0  \n",
       "26 2018-08-03  ultimate  FL MSA                    70.0  \n",
       "27 2018-08-03  ultimate  FL MSA                    70.0  "
      ]
     },
     "execution_count": 28,
     "metadata": {},
     "output_type": "execute_result"
    }
   ],
   "source": [
    "ultimate_revenue_df = df_updated[df_updated['plan'] == 'ultimate']\n",
    "ultimate_revenue_df = ultimate_revenue_df.drop(['total_revenue_surf', 'city'], axis=1)\n",
    "ultimate_revenue_df.head()"
   ]
  },
  {
   "cell_type": "markdown",
   "metadata": {},
   "source": [
    "#### Created a dataframe exclusively for the ultimate revenue and dropped the surf revenue."
   ]
  },
  {
   "cell_type": "code",
   "execution_count": 29,
   "metadata": {},
   "outputs": [
    {
     "data": {
      "text/html": [
       "<div>\n",
       "<style scoped>\n",
       "    .dataframe tbody tr th:only-of-type {\n",
       "        vertical-align: middle;\n",
       "    }\n",
       "\n",
       "    .dataframe tbody tr th {\n",
       "        vertical-align: top;\n",
       "    }\n",
       "\n",
       "    .dataframe thead th {\n",
       "        text-align: right;\n",
       "    }\n",
       "</style>\n",
       "<table border=\"1\" class=\"dataframe\">\n",
       "  <thead>\n",
       "    <tr style=\"text-align: right;\">\n",
       "      <th></th>\n",
       "      <th>user_id</th>\n",
       "      <th>month</th>\n",
       "      <th>num_calls_made</th>\n",
       "      <th>minutes_per_month</th>\n",
       "      <th>num_messages</th>\n",
       "      <th>gb_used</th>\n",
       "      <th>reg_date</th>\n",
       "      <th>plan</th>\n",
       "      <th>state</th>\n",
       "      <th>total_revenue_surf</th>\n",
       "    </tr>\n",
       "  </thead>\n",
       "  <tbody>\n",
       "    <tr>\n",
       "      <th>1</th>\n",
       "      <td>1001</td>\n",
       "      <td>8.0</td>\n",
       "      <td>27.0</td>\n",
       "      <td>182.0</td>\n",
       "      <td>30.0</td>\n",
       "      <td>7.0</td>\n",
       "      <td>2018-08-13</td>\n",
       "      <td>surf</td>\n",
       "      <td>WA MSA</td>\n",
       "      <td>20.00</td>\n",
       "    </tr>\n",
       "    <tr>\n",
       "      <th>2</th>\n",
       "      <td>1001</td>\n",
       "      <td>9.0</td>\n",
       "      <td>49.0</td>\n",
       "      <td>315.0</td>\n",
       "      <td>44.0</td>\n",
       "      <td>14.0</td>\n",
       "      <td>2018-08-13</td>\n",
       "      <td>surf</td>\n",
       "      <td>WA MSA</td>\n",
       "      <td>20.00</td>\n",
       "    </tr>\n",
       "    <tr>\n",
       "      <th>3</th>\n",
       "      <td>1001</td>\n",
       "      <td>10.0</td>\n",
       "      <td>65.0</td>\n",
       "      <td>393.0</td>\n",
       "      <td>53.0</td>\n",
       "      <td>22.0</td>\n",
       "      <td>2018-08-13</td>\n",
       "      <td>surf</td>\n",
       "      <td>WA MSA</td>\n",
       "      <td>90.09</td>\n",
       "    </tr>\n",
       "    <tr>\n",
       "      <th>4</th>\n",
       "      <td>1001</td>\n",
       "      <td>11.0</td>\n",
       "      <td>64.0</td>\n",
       "      <td>426.0</td>\n",
       "      <td>36.0</td>\n",
       "      <td>19.0</td>\n",
       "      <td>2018-08-13</td>\n",
       "      <td>surf</td>\n",
       "      <td>WA MSA</td>\n",
       "      <td>60.00</td>\n",
       "    </tr>\n",
       "    <tr>\n",
       "      <th>5</th>\n",
       "      <td>1001</td>\n",
       "      <td>12.0</td>\n",
       "      <td>56.0</td>\n",
       "      <td>412.0</td>\n",
       "      <td>44.0</td>\n",
       "      <td>19.0</td>\n",
       "      <td>2018-08-13</td>\n",
       "      <td>surf</td>\n",
       "      <td>WA MSA</td>\n",
       "      <td>60.00</td>\n",
       "    </tr>\n",
       "  </tbody>\n",
       "</table>\n",
       "</div>"
      ],
      "text/plain": [
       "   user_id  month  num_calls_made  minutes_per_month  num_messages  gb_used  \\\n",
       "1     1001    8.0            27.0              182.0          30.0      7.0   \n",
       "2     1001    9.0            49.0              315.0          44.0     14.0   \n",
       "3     1001   10.0            65.0              393.0          53.0     22.0   \n",
       "4     1001   11.0            64.0              426.0          36.0     19.0   \n",
       "5     1001   12.0            56.0              412.0          44.0     19.0   \n",
       "\n",
       "    reg_date  plan   state  total_revenue_surf  \n",
       "1 2018-08-13  surf  WA MSA               20.00  \n",
       "2 2018-08-13  surf  WA MSA               20.00  \n",
       "3 2018-08-13  surf  WA MSA               90.09  \n",
       "4 2018-08-13  surf  WA MSA               60.00  \n",
       "5 2018-08-13  surf  WA MSA               60.00  "
      ]
     },
     "execution_count": 29,
     "metadata": {},
     "output_type": "execute_result"
    }
   ],
   "source": [
    "surf_revenue_df = df_updated[df_updated['plan'] == 'surf']\n",
    "surf_revenue_df = surf_revenue_df.drop(['total_revenue_ultimate', 'city'], axis=1)\n",
    "surf_revenue_df.head()"
   ]
  },
  {
   "cell_type": "markdown",
   "metadata": {},
   "source": [
    "#### Created a dataframe exclusively for the surf revenue and dropped the ultimate revenue. With these two dataframes we can now start to answer questions about the comparisons between the two. "
   ]
  },
  {
   "cell_type": "code",
   "execution_count": 30,
   "metadata": {},
   "outputs": [],
   "source": [
    "# First Attempt\n",
    "# class SurfPlan:\n",
    "#     def __init__(self, minutes, num_messages, gb_used):\n",
    "#         self.minutes = minutes\n",
    "#         self.num_messages = num_messages\n",
    "#         self.gb_used = gb_used\n",
    "#         self.total = 20\n",
    "    \n",
    "#     def minute_total(self):\n",
    "#         if self.minutes > 500:\n",
    "#             over_minute = self.minutes - 500\n",
    "#             self.total += over_minute * 0.03\n",
    "    \n",
    "#     def num_txt_messages(self):\n",
    "#         if self.num_messages > 50:\n",
    "#             over_message = self.num_messages - 50\n",
    "#             self.total += over_message * 0.03\n",
    "    \n",
    "#     def gb_data_used(self):\n",
    "#         if self.gb_used > 15:\n",
    "#             gb_exceeded = self.gb_used - 15\n",
    "#             self.total += gb_exceeded * 10\n",
    "        \n",
    "   \n",
    "# class UltimatePlan:\n",
    "#     def __init__(self, minutes, num_messages, gb_used):\n",
    "#         self.minutes = minutes\n",
    "#         self.num_messages = num_messages\n",
    "#         self.gb_used = gb_used\n",
    "#         self.total = 70\n",
    "        \n",
    "#     def minute_total(self):\n",
    "#         if self.minutes > 3000:\n",
    "#             over_minute = self.minutes - 3000\n",
    "#             self.total += over_minute * 0.01\n",
    "    \n",
    "#     def num_txt_messages(self):\n",
    "#         if self.num_messages > 1000:\n",
    "#             over_message = self.num_messages - 1000\n",
    "#             self.total += over_message * 0.01\n",
    "    \n",
    "#     def gb_data_used(self):\n",
    "#         if self.gb_used > 30:\n",
    "#             gb_exceeded = self.gb_used - 30\n",
    "#             self.total += gb_exceeded * 7\n",
    "\n",
    "# test_study = UltimatePlan(600, 150, 50)\n",
    "# test_study.total()"
   ]
  },
  {
   "cell_type": "markdown",
   "metadata": {},
   "source": [
    "## Study user behaviour"
   ]
  },
  {
   "cell_type": "markdown",
   "metadata": {},
   "source": [
    "[Calculate some useful descriptive statistics for the aggregated and merged data, which typically reveal an overall picture captured by the data. Draw useful plots to help the understanding. Given that the main task is to compare the plans and decide on which one is more profitable, the statistics and the plots should be calculated on a per-plan basis.]\n",
    "\n",
    "[There are relevant hints in the comments for Calls but they are not provided for Messages and Internet though the principle of statistical study is the same for them as for Calls.]"
   ]
  },
  {
   "cell_type": "markdown",
   "metadata": {},
   "source": [
    "### Calls"
   ]
  },
  {
   "cell_type": "code",
   "execution_count": 31,
   "metadata": {
    "scrolled": false
   },
   "outputs": [
    {
     "data": {
      "image/png": "[encoded data removed]",
      "text/plain": [
       "<Figure size 864x720 with 1 Axes>"
      ]
     },
     "metadata": {
      "needs_background": "light"
     },
     "output_type": "display_data"
    }
   ],
   "source": [
    "# Compare average duration of calls per each plan per each distinct month. Plot a bar plat to visualize it.\n",
    "ultimate_revenue_df['average_duration'] = ultimate_revenue_df['minutes_per_month']/ultimate_revenue_df['num_calls_made']\n",
    "surf_revenue_df['average_duration'] = surf_revenue_df['minutes_per_month']/surf_revenue_df['num_calls_made']\n",
    "duration_ultimate_calls = ultimate_revenue_df.groupby('month')['average_duration'].mean()\n",
    "duration_surf_calls = surf_revenue_df.groupby('month')['average_duration'].mean()\n",
    "plt.figure(figsize=(12, 10))\n",
    "plt.bar(range(1, 13), duration_ultimate_calls, color='goldenrod')\n",
    "plt.bar(range(1, 13), duration_surf_calls, color='aqua', alpha = 0.4)\n",
    "plt.title('Average Duration of Calls')\n",
    "plt.xlabel('Months')\n",
    "plt.ylabel('Minutes')\n",
    "plt.xticks(range(1,13), ['January', 'February', 'March', 'April', 'May', 'June', 'July', 'August', 'September', 'October', 'November', 'December'], rotation='vertical')\n",
    "plt.legend(['Ultimate Plan', 'Surf Plan'])\n",
    "plt.show()\n",
    "\n"
   ]
  },
  {
   "cell_type": "markdown",
   "metadata": {},
   "source": [
    "#### Graphed the differences between the average durations of calls per month between the two plans. We can see that there are some distinct differences, like in January, but on average they are extremely closely related in duration of calls between the two plans. "
   ]
  },
  {
   "cell_type": "code",
   "execution_count": 32,
   "metadata": {},
   "outputs": [
    {
     "data": {
      "image/png": "[encoded data removed]",
      "text/plain": [
       "<Figure size 432x288 with 1 Axes>"
      ]
     },
     "metadata": {
      "needs_background": "light"
     },
     "output_type": "display_data"
    }
   ],
   "source": [
    "# Compare the number of minutes users of each plan require each month. Plot a HISTOGRAM.\n",
    "ultimate_minutes = ultimate_revenue_df.groupby('month')['minutes_per_month'].mean().reset_index()\n",
    "surf_minutes = surf_revenue_df.groupby('month')['minutes_per_month'].mean().reset_index()\n",
    "\n",
    "fig, ax = plt.subplots(1, 1)\n",
    "\n",
    "# Added axis labels\n",
    "ax.set_xlabel('Minutes')\n",
    "ax.set_ylabel('Months');\n",
    "\n",
    "surf = ax.hist(surf_minutes, bins=10, label='Ultimate', color=['blue', 'orange'])\n",
    "ultimate = ax.hist(ultimate_minutes, bins=10, label='Surf', color=['orange', 'blue'])\n",
    "\n",
    "#Added a Title\n",
    "plt.title('Minutes per Month')\n",
    "\n",
    "# Added a legend\n",
    "plt.legend(('Surf', 'Ultimate'), loc='upper right')\n",
    "plt.xlim(xmin=200, xmax = 500)\n",
    "plt.show()"
   ]
  },
  {
   "cell_type": "markdown",
   "metadata": {},
   "source": [
    "<div class=\"alert alert-block alert-danger\">\n",
    "<b>Reviewer's comment</b> <a class=\"tocSkip\"></a>\n",
    "\n",
    "Seems we need legend in graph to understand what is red bar and what is orange bar.\n",
    "</div>"
   ]
  },
  {
   "cell_type": "markdown",
   "metadata": {},
   "source": [
    "<div class=\"alert alert-block alert-info\">\n",
    "Why is the legend color not meeting up with the graph color? Surf is red but on the graph it's blue!\n",
    "</div>"
   ]
  },
  {
   "cell_type": "markdown",
   "metadata": {},
   "source": [
    "<div class=\"alert alert-block alert-warning\">\n",
    "<b>Reviewer's comment</b> <a class=\"tocSkip\"></a>\n",
    "\n",
    "We can do it like this:\n",
    "</div>"
   ]
  },
  {
   "cell_type": "markdown",
   "metadata": {},
   "source": [
    "<div class=\"alert alert-block alert-success\">\n",
    "<b>Reviewer's comment</b> <a class=\"tocSkip\"></a>\n",
    "\n",
    "Good job.\n",
    "</div>"
   ]
  },
  {
   "cell_type": "markdown",
   "metadata": {},
   "source": [
    "#### Got it. Thanks for showing me, the color is what I couldn't figure out. "
   ]
  },
  {
   "cell_type": "code",
   "execution_count": 33,
   "metadata": {},
   "outputs": [
    {
     "data": {
      "image/png": "[encoded data removed]",
      "text/plain": [
       "<Figure size 432x288 with 1 Axes>"
      ]
     },
     "metadata": {
      "needs_background": "light"
     },
     "output_type": "display_data"
    }
   ],
   "source": [
    "# reviewer's example\n",
    "fig, ax = plt.subplots(1, 1)\n",
    "\n",
    "# Added axis labels\n",
    "ax.set_xlabel('Minutes')\n",
    "ax.set_ylabel('Months');\n",
    "\n",
    "ultimate = ax.hist(ultimate_minutes, bins=10, label='Ultimate', color=['green', 'blue'])\n",
    "surf = ax.hist(surf_minutes, bins=10, label='Surf', color=['blue', 'green'])\n",
    "\n",
    "#Added a Title\n",
    "plt.title('Minutes per Month')\n",
    "\n",
    "# Added a legend\n",
    "plt.legend(('Surf', 'Ultimate'), loc='upper right')\n",
    "plt.xlim(xmin=200, xmax = 500)\n",
    "plt.show()"
   ]
  },
  {
   "cell_type": "markdown",
   "metadata": {},
   "source": [
    "<div class=\"alert alert-block alert-warning\">\n",
    "<b>Reviewer's comment</b> <a class=\"tocSkip\"></a>\n",
    "\n",
    "Also, we can plot using df: df.plot(kind='hist', bins=100)\n",
    "</div>"
   ]
  },
  {
   "cell_type": "markdown",
   "metadata": {},
   "source": [
    "[Calculate the mean and the variable of the call duration to reason on whether users on the different plans have different behaviours for their calls.]"
   ]
  },
  {
   "cell_type": "code",
   "execution_count": 34,
   "metadata": {},
   "outputs": [],
   "source": [
    "# Calculate the mean and the variance of the monthly call duration\n",
    "ultimate_call_duration_variance = np.var(ultimate_revenue_df['average_duration'])\n",
    "ultimate_call_duration_mean = np.mean(ultimate_revenue_df['average_duration'])\n",
    "\n",
    "surf_call_duration_variance = np.var(surf_revenue_df['average_duration'])\n",
    "surf_call_duration_mean = np.mean(surf_revenue_df['average_duration'])\n"
   ]
  },
  {
   "cell_type": "code",
   "execution_count": 35,
   "metadata": {},
   "outputs": [
    {
     "data": {
      "image/png": "[encoded data removed]",
      "text/plain": [
       "<Figure size 720x504 with 1 Axes>"
      ]
     },
     "metadata": {
      "needs_background": "light"
     },
     "output_type": "display_data"
    }
   ],
   "source": [
    "# Plot a boxplot to visualize the distribution of the monthly call duration\n",
    "avg_ultimate = ultimate_revenue_df['average_duration']\n",
    "avg_surf = surf_revenue_df['average_duration']\n",
    "avg_surf = avg_surf.dropna()\n",
    "avg_ultimate = avg_ultimate.dropna()\n",
    "data = [avg_surf, avg_ultimate]\n",
    "fig = plt.figure(figsize =(10, 7))\n",
    " \n",
    "# # # Creating axes instance\n",
    "ax = fig.add_axes([0, 0, 1, 1])\n",
    " \n",
    "# # # Creating plot\n",
    "bp = ax.boxplot(data)\n",
    "plt.title('Average Monthly Call Duration')\n",
    "plt.ylabel('Minutes')\n",
    " \n",
    "# # # show plot\n",
    "plt.show()\n",
    "\n"
   ]
  },
  {
   "cell_type": "markdown",
   "metadata": {},
   "source": [
    "#### Looking at the boxplot you can see that the median, quartiles, and extremes are extremely similar but that the first boxplot, which is the Surf Plan's average duration of minutes have a wide spectrum of outliers. This makes sense because some people enjoy having long phone calls. "
   ]
  },
  {
   "cell_type": "markdown",
   "metadata": {},
   "source": [
    "[Formulate conclusions on how the users behave in terms of calling. Is their behaviour different between the plans?]"
   ]
  },
  {
   "cell_type": "markdown",
   "metadata": {},
   "source": [
    " "
   ]
  },
  {
   "cell_type": "markdown",
   "metadata": {},
   "source": [
    "### Messages"
   ]
  },
  {
   "cell_type": "code",
   "execution_count": 36,
   "metadata": {},
   "outputs": [
    {
     "data": {
      "image/png": "[encoded data removed]",
      "text/plain": [
       "<Figure size 432x288 with 1 Axes>"
      ]
     },
     "metadata": {
      "needs_background": "light"
     },
     "output_type": "display_data"
    }
   ],
   "source": [
    "# Compare the number of messages users of each plan tend to send each month\n",
    "num_message_surf = surf_revenue_df.groupby('month')['num_messages'].mean()\n",
    "num_message_ultimate = ultimate_revenue_df.groupby('month')['num_messages'].mean()\n",
    "plt.bar(range(1,13), num_message_surf)\n",
    "plt.bar(range(1,13), num_message_ultimate, alpha=0.4)\n",
    "plt.title('Average Number of Messages')\n",
    "plt.xlabel('Month')\n",
    "plt.ylabel('Number of Messages')\n",
    "plt.legend(['Surf Plan', 'Ultimate Plan'])\n",
    "plt.show()\n"
   ]
  },
  {
   "cell_type": "markdown",
   "metadata": {},
   "source": [
    "#### Graphed the differences between the average number of messages per month between the two plans. We can see that there are some distinct differences, with the Ultimate Plan members on average sending more messages than the Surf Plan members. As a company, they could use that to advertise the greater amount of messages that could be sent depending on the two. "
   ]
  },
  {
   "cell_type": "code",
   "execution_count": 37,
   "metadata": {},
   "outputs": [],
   "source": [
    "# Calculate the mean and the variance of the monthly call duration\n",
    "ultimate_message_variance = np.var(ultimate_revenue_df['num_messages'])\n",
    "ultimate_message_mean = np.mean(ultimate_revenue_df['num_messages'])\n",
    "\n",
    "surf_message_variance = np.var(surf_revenue_df['num_messages'])\n",
    "surf_message_mean = np.mean(surf_revenue_df['num_messages'])\n"
   ]
  },
  {
   "cell_type": "code",
   "execution_count": 38,
   "metadata": {},
   "outputs": [
    {
     "data": {
      "image/png": "[encoded data removed]",
      "text/plain": [
       "<Figure size 720x504 with 1 Axes>"
      ]
     },
     "metadata": {
      "needs_background": "light"
     },
     "output_type": "display_data"
    }
   ],
   "source": [
    "message_ultimate = ultimate_revenue_df['num_messages']\n",
    "message_surf = surf_revenue_df['num_messages']\n",
    "message_surf = message_surf.dropna()\n",
    "message_ultimate = avg_ultimate.dropna()\n",
    "data = [message_surf, message_ultimate]\n",
    "fig = plt.figure(figsize =(10, 7))\n",
    " \n",
    "# Creating axes instance\n",
    "ax = fig.add_axes([0, 0, 1, 1])\n",
    " \n",
    "# Creating plot\n",
    "bp = ax.boxplot(data)\n",
    "plt.title('Average Monthly Call Duration')\n",
    "plt.ylabel('Minutes')\n",
    " \n",
    "# show plot\n",
    "plt.show()"
   ]
  },
  {
   "cell_type": "markdown",
   "metadata": {},
   "source": [
    "#### Looking at our boxplots we can see that the median and upper quartiles of the Ultimate Plan are higher. I think the company can use that in their advertising to persuade customers into buying the Ultimate Plan over the Surf Plan. "
   ]
  },
  {
   "cell_type": "markdown",
   "metadata": {},
   "source": [
    "[Formulate conclusions on how the users behave in terms of messaging. Is their behaviour different between the plans?]"
   ]
  },
  {
   "cell_type": "markdown",
   "metadata": {},
   "source": [
    " "
   ]
  },
  {
   "cell_type": "markdown",
   "metadata": {},
   "source": [
    "### Internet"
   ]
  },
  {
   "cell_type": "code",
   "execution_count": 39,
   "metadata": {},
   "outputs": [
    {
     "data": {
      "image/png": "[encoded data removed]",
      "text/plain": [
       "<Figure size 432x288 with 1 Axes>"
      ]
     },
     "metadata": {
      "needs_background": "light"
     },
     "output_type": "display_data"
    }
   ],
   "source": [
    "# Compare the amount of internet traffic consumed by users per plan\n",
    "# Compare the number of messages users of each plan tend to send each month\n",
    "gb_used_surf = surf_revenue_df.groupby('month')['gb_used'].mean()\n",
    "gb_used_ultimate = ultimate_revenue_df.groupby('month')['gb_used'].mean()\n",
    "plt.bar(range(1,13), gb_used_surf)\n",
    "plt.bar(range(1,13), gb_used_ultimate, alpha=0.4)\n",
    "plt.title('Average Number of GB Used')\n",
    "plt.xlabel('Month')\n",
    "plt.ylabel('GB')\n",
    "plt.legend(['Surf Plan', 'Ultimate Plan'])\n",
    "plt.show()\n"
   ]
  },
  {
   "cell_type": "markdown",
   "metadata": {},
   "source": [
    "#### One of the first things that piques my curiousity is why February and March were so high for the Ultimate Plan. I want to ask the company questions about those two months. I also see that between the two plans there is not a high amount of variation between the amount of GB's used between the two plans, other than the two outliers of February and March. "
   ]
  },
  {
   "cell_type": "code",
   "execution_count": 40,
   "metadata": {},
   "outputs": [],
   "source": [
    "ultimate_gb_variance = np.var(ultimate_revenue_df['gb_used'])\n",
    "ultimate_gb_mean = np.mean(ultimate_revenue_df['gb_used'])\n",
    "\n",
    "surf_gb_variance = np.var(surf_revenue_df['gb_used'])\n",
    "surf_gb_mean = np.mean(surf_revenue_df['gb_used'])"
   ]
  },
  {
   "cell_type": "code",
   "execution_count": 41,
   "metadata": {
    "scrolled": true
   },
   "outputs": [
    {
     "name": "stdout",
     "output_type": "stream",
     "text": [
      "The average GB's used by a customer with the Surf Plan was 16.83 GB's.\n",
      "The average GB's used by a customer with the Ultimate Plan was 17.33 GB's.\n"
     ]
    }
   ],
   "source": [
    "print(f\"The average GB's used by a customer with the Surf Plan was {round(surf_gb_mean, 2)} GB's.\")\n",
    "print(f\"The average GB's used by a customer with the Ultimate Plan was {round(ultimate_gb_mean, 2)} GB's.\")"
   ]
  },
  {
   "cell_type": "markdown",
   "metadata": {},
   "source": [
    "#### As we can see the average amount of GB's used between customers with the two plans are close to being the same. So if the company can get more customers on the Ultimate plan, they will make more money off of each customer. "
   ]
  },
  {
   "cell_type": "code",
   "execution_count": 42,
   "metadata": {
    "scrolled": true
   },
   "outputs": [
    {
     "data": {
      "image/png": "[encoded data removed]",
      "text/plain": [
       "<Figure size 720x504 with 1 Axes>"
      ]
     },
     "metadata": {
      "needs_background": "light"
     },
     "output_type": "display_data"
    }
   ],
   "source": [
    "message_ultimate = ultimate_revenue_df['gb_used']\n",
    "message_surf = surf_revenue_df['gb_used']\n",
    "message_ultimate = message_ultimate.dropna()\n",
    "message_surf = message_surf.dropna()\n",
    "data = [message_surf, message_ultimate]\n",
    "fig = plt.figure(figsize =(10, 7))\n",
    " \n",
    "# Creating axes instance\n",
    "ax = fig.add_axes([0, 0, 1, 1])\n",
    " \n",
    "# Creating plot\n",
    "bp = ax.boxplot(data)\n",
    "plt.title('Average Monthly GB Used')\n",
    "plt.ylabel('GB')\n",
    " \n",
    "# show plot\n",
    "plt.show()"
   ]
  },
  {
   "cell_type": "markdown",
   "metadata": {},
   "source": [
    "#### We can see from the boxplots that the medians and the quartiles are extremely similar between the two plans. "
   ]
  },
  {
   "cell_type": "markdown",
   "metadata": {},
   "source": [
    "[Formulate conclusions on how the users tend to consume the internet traffic? Is their behaviour different between the plans?]"
   ]
  },
  {
   "cell_type": "markdown",
   "metadata": {},
   "source": [
    " "
   ]
  },
  {
   "cell_type": "markdown",
   "metadata": {},
   "source": [
    "## Revenue"
   ]
  },
  {
   "cell_type": "markdown",
   "metadata": {},
   "source": [
    "[Likewise you have studied the user behaviour, statistically describe the revenue between the plans.]"
   ]
  },
  {
   "cell_type": "code",
   "execution_count": 43,
   "metadata": {
    "scrolled": true
   },
   "outputs": [
    {
     "data": {
      "image/png": "[encoded data removed]",
      "text/plain": [
       "<Figure size 432x288 with 1 Axes>"
      ]
     },
     "metadata": {
      "needs_background": "light"
     },
     "output_type": "display_data"
    }
   ],
   "source": [
    "revenue_surf = surf_revenue_df.groupby('month')['total_revenue_surf'].mean()\n",
    "revenue_ultimate = ultimate_revenue_df.groupby('month')['total_revenue_ultimate'].mean()\n",
    "plt.bar(range(1,13), revenue_surf)\n",
    "plt.bar(range(1,13), revenue_ultimate, alpha=0.4)\n",
    "plt.title('Revenue Per Plan')\n",
    "plt.xlabel('Month')\n",
    "plt.ylabel(\"USD ('$')\")\n",
    "plt.legend(['Surf Plan', 'Ultimate Plan'])\n",
    "plt.show()\n"
   ]
  },
  {
   "cell_type": "markdown",
   "metadata": {},
   "source": [
    "#### We can see from our graph that the Ultimate Plan, on average, makes more money than the Ultimate Plan. The Ultimate Plan stays a lot more consistent too compared to the Surf Plan and even with the late charges still makes more money on average. Our goal as a company should be to try and get people to sign up for the Ultimate Plan to maximize revenue. "
   ]
  },
  {
   "cell_type": "code",
   "execution_count": 44,
   "metadata": {},
   "outputs": [],
   "source": [
    "ultimate_revenue_variance = np.var(ultimate_revenue_df['total_revenue_ultimate'])\n",
    "ultimate_revenue_mean = np.mean(ultimate_revenue_df['total_revenue_ultimate'])\n",
    "\n",
    "surf_revenue_variance = np.var(surf_revenue_df['total_revenue_surf'])\n",
    "surf_revenue_mean = np.mean(surf_revenue_df['total_revenue_surf'])"
   ]
  },
  {
   "cell_type": "code",
   "execution_count": 45,
   "metadata": {},
   "outputs": [
    {
     "data": {
      "image/png": "[encoded data removed]",
      "text/plain": [
       "<Figure size 720x504 with 1 Axes>"
      ]
     },
     "metadata": {
      "needs_background": "light"
     },
     "output_type": "display_data"
    }
   ],
   "source": [
    "revenue_ultimate = ultimate_revenue_df['total_revenue_ultimate']\n",
    "revenue_surf = surf_revenue_df['total_revenue_surf']\n",
    "data = [revenue_surf, revenue_ultimate]\n",
    "fig = plt.figure(figsize =(10, 7))\n",
    " \n",
    "# Creating axes instance\n",
    "ax = fig.add_axes([0, 0, 1, 1])\n",
    " \n",
    "# Creating plot\n",
    "bp = ax.boxplot(data)\n",
    "plt.ylim=([0,200])\n",
    "plt.title('Average Revenue')\n",
    "plt.ylabel(\"USD ('$')\")\n",
    "\n",
    "# show plot\n",
    "plt.show()"
   ]
  },
  {
   "cell_type": "markdown",
   "metadata": {},
   "source": [
    "[Formulate conclusions about how the revenue differs between the plans.]"
   ]
  },
  {
   "cell_type": "markdown",
   "metadata": {},
   "source": [
    "<div class=\"alert alert-block alert-success\">\n",
    "<b>Reviewer's comment</b> <a class=\"tocSkip\"></a>\n",
    "\n",
    "Good graphs!\n",
    "    \n",
    "Also, we can add histograms. They are very useful here.\n",
    "</div>"
   ]
  },
  {
   "cell_type": "markdown",
   "metadata": {},
   "source": [
    " "
   ]
  },
  {
   "cell_type": "markdown",
   "metadata": {},
   "source": [
    "## Test statistical hypotheses"
   ]
  },
  {
   "cell_type": "markdown",
   "metadata": {},
   "source": [
    "[Test the hypothesis that the average revenue from users of the Ultimate and Surf calling plans differs.]"
   ]
  },
  {
   "cell_type": "markdown",
   "metadata": {},
   "source": [
    "[Formulate the null and the alternative hypotheses, choose the statistical test, decide on the alpha value.]"
   ]
  },
  {
   "cell_type": "code",
   "execution_count": 46,
   "metadata": {},
   "outputs": [
    {
     "data": {
      "text/plain": [
       "128.98115900003052"
      ]
     },
     "execution_count": 46,
     "metadata": {},
     "output_type": "execute_result"
    }
   ],
   "source": [
    "# Test the hypotheses\n",
    "average_revenue_surf_plan = surf_revenue_df['total_revenue_surf']\n",
    "average_revenue_ultimate_plan = ultimate_revenue_df['total_revenue_ultimate']\n",
    "np.var(average_revenue_surf_plan)\n",
    "np.var(average_revenue_ultimate_plan)\n"
   ]
  },
  {
   "cell_type": "markdown",
   "metadata": {},
   "source": [
    "#### I created two different dataframes that have the total revenues from the Surf Plan and the Ultimate Plan. Then I tested the variances to make sure they weren't equal or close to equal. Finally, below I did a hypothesis test to test the null hypothesis. "
   ]
  },
  {
   "cell_type": "code",
   "execution_count": 47,
   "metadata": {},
   "outputs": [
    {
     "name": "stdout",
     "output_type": "stream",
     "text": [
      "p-value:  1.2184115852123163e-15\n",
      "We reject the null hypothesis\n"
     ]
    }
   ],
   "source": [
    "# Test the hypotheses\n",
    "#### Null hypothesis would be \"The average revenue from users of the Ultimate and Surf plans are the same.\"\n",
    "\n",
    "#### Alternative Hypothesis would be \"The average revenue from the Ultimate and Surf plans are different.\"\n",
    "\n",
    "\n",
    "alpha = 0.05  # critical statistical significance\n",
    "\n",
    "results = st.ttest_ind(average_revenue_surf_plan, average_revenue_ultimate_plan, equal_var= False)\n",
    "\n",
    "print('p-value: ', results.pvalue)\n",
    "\n",
    "if results.pvalue < alpha:\n",
    "    print('We reject the null hypothesis')\n",
    "else:\n",
    "    print(\"We can't reject the null hypothesis\") "
   ]
  },
  {
   "cell_type": "markdown",
   "metadata": {},
   "source": [
    "#### We must reject the null hypothesis that \"The average revenue from users of the Ultimate and Surf plans are the same.\" "
   ]
  },
  {
   "cell_type": "markdown",
   "metadata": {},
   "source": [
    "[Test the hypothesis that the average revenue from users in the NY-NJ area is different from that of the users from the other regions.]"
   ]
  },
  {
   "cell_type": "markdown",
   "metadata": {},
   "source": [
    "[Formulate the null and the alternative hypotheses, choose the statistical test, decide on the alpha value.]"
   ]
  },
  {
   "cell_type": "code",
   "execution_count": 48,
   "metadata": {
    "scrolled": false
   },
   "outputs": [
    {
     "name": "stdout",
     "output_type": "stream",
     "text": [
      "p-value:  0.03870322661292938\n",
      "We reject the null hypothesis\n"
     ]
    }
   ],
   "source": [
    "# Test the hypotheses\n",
    "#### Null hypothesis would be \"The average revenue from users in the \n",
    "#### NY-NJ area is NOT different from that of the users from the other regions.\"\n",
    "\n",
    "#### Alternative Hypothesis would be \"The average revenue from users in the NY-NJ area is different\n",
    "#### fromt that of the users from the other region.\"\n",
    "ny_nj_surf = surf_revenue_df[surf_revenue_df['state'] == 'NY-NJ-PA MSA']\n",
    "ny_nj_df_surf = ny_nj_surf[['user_id', 'month', 'total_revenue_surf']].copy()\n",
    "\n",
    "ny_nj_ultimate = ultimate_revenue_df[ultimate_revenue_df['state'] == 'NY-NJ-PA MSA']\n",
    "ny_nj_df_ultimate = ny_nj_ultimate[['user_id', 'month', 'total_revenue_ultimate']].copy()\n",
    "\n",
    "ny_nj_dfs = [ny_nj_df_surf, ny_nj_df_ultimate]\n",
    "\n",
    "for df in ny_nj_dfs:\n",
    "    df.columns = ['user_id', 'month', 'total_revenue']\n",
    "\n",
    "total_revenue_ny_nj = pd.concat(ny_nj_dfs).reset_index(drop=True)\n",
    "revenue_ny_nj = total_revenue_ny_nj['total_revenue']\n",
    "\n",
    "\n",
    "not_ny_nj_surf = surf_revenue_df[surf_revenue_df['state'] != 'NY-NJ-PA MSA']\n",
    "not_ny_nj_df_surf = not_ny_nj_surf[['user_id', 'month', 'total_revenue_surf']].copy()\n",
    "\n",
    "not_ny_nj_ultimate = ultimate_revenue_df[ultimate_revenue_df['state'] != 'NY-NJ-PA MSA']\n",
    "not_ny_nj_df_ultimate = not_ny_nj_ultimate[['user_id', 'month', 'total_revenue_ultimate']].copy()\n",
    "\n",
    "not_ny_nj_dfs = [not_ny_nj_df_surf, not_ny_nj_df_ultimate]\n",
    "\n",
    "for df in not_ny_nj_dfs:\n",
    "    df.columns = ['user_id', 'month', 'total_revenue']\n",
    "\n",
    "total_revenue_not_ny_nj = pd.concat(not_ny_nj_dfs).reset_index(drop=True)\n",
    "revenue_not_ny_nj = total_revenue_not_ny_nj['total_revenue']\n",
    "\n",
    "np.var(revenue_ny_nj)\n",
    "np.var(revenue_not_ny_nj)\n",
    "\n",
    "alpha = 0.05  # critical statistical significance\n",
    "\n",
    "results = st.ttest_ind(revenue_ny_nj, revenue_not_ny_nj, equal_var= False)\n",
    "\n",
    "print('p-value: ', results.pvalue)\n",
    "\n",
    "if results.pvalue < alpha:\n",
    "    print('We reject the null hypothesis')\n",
    "else:\n",
    "    print(\"We can't reject the null hypothesis\") \n",
    "\n"
   ]
  },
  {
   "cell_type": "markdown",
   "metadata": {},
   "source": [
    "####  I put together all of the revenues fro mthe NY_NJ area and the areas that are not NY-NJ into two seperate dataframes and then did a hypothesis test on them to test the Null Hypothesis. Using the hypothesis test we must reject the null hypothesis that \"The average revenue from users of the Ultimate and Surf plans are the same.\" "
   ]
  },
  {
   "cell_type": "markdown",
   "metadata": {},
   "source": [
    "<div class=\"alert alert-block alert-success\">\n",
    "<b>Reviewer's comment</b> <a class=\"tocSkip\"></a>\n",
    "\n",
    "Good job! Correct tests.\n",
    "</div>"
   ]
  },
  {
   "cell_type": "markdown",
   "metadata": {},
   "source": [
    "## General conclusion\n",
    "\n",
    "[List your important conclusions in this final section, make sure they cover all those important decisions (assumptions) that you've made and that led you to the way you processed and analyzed the data.]"
   ]
  },
  {
   "cell_type": "markdown",
   "metadata": {},
   "source": [
    "#### When I look at the data, it tells me that even though we get extra money for overcharges on the Surf Plan, ultimately, the Ultimate Plan makes the company more money in the long run. The average amount per customer that the Ultimate Plan makes is 72.65 and the Surf plan give us an average of 63.31. "
   ]
  },
  {
   "cell_type": "markdown",
   "metadata": {},
   "source": [
    " #### Something to look at for the company is why there are more than double the amount of people that have chosen the Surf Plan over the Ultimate Plan and how the company can try to incentivize people to switch so that they can make more revenue. "
   ]
  },
  {
   "cell_type": "markdown",
   "metadata": {},
   "source": [
    "#### Based on our data our goal as a company should be to try and convert as many of our Surf Plan customers as we can to the Ultimate Plan to maximize revenue for the company. "
   ]
  },
  {
   "cell_type": "markdown",
   "metadata": {},
   "source": [
    "<div class=\"alert alert-block alert-success\">\n",
    "<b>Reviewer's comment</b> <a class=\"tocSkip\"></a>\n",
    "\n",
    "Good final conclusion!\n",
    "</div>"
   ]
  },
  {
   "cell_type": "markdown",
   "metadata": {},
   "source": [
    "<div class=\"alert alert-block alert-warning\">\n",
    "<b>Overall reviewer's comment</b> <a class=\"tocSkip\"></a>\n",
    "\n",
    "Christopher, thank you for sending your project. You've done a really good job on it! <br>\n",
    "    \n",
    "There are a lot of correct conclusions and nice code. <br>\n",
    "    \n",
    "However, there are some issues. I wrote comments. Please elaborate them.\n",
    "    \n",
    "You have very good analytic skills, keep up the good work! I will be waiting for your corrected project.\n",
    "    \n",
    "Also, do not forget to rerun project before sending.\n",
    "</div>"
   ]
  },
  {
   "cell_type": "markdown",
   "metadata": {},
   "source": [
    "<div class=\"alert alert-block alert-info\">\n",
    "Thanks I appreciat that compliment! It means a lot and I am working really hard to do a good job, understand the data, and get a great job after this is done. I do have some questions in the Project. I am sending this to you and will await further instructions. \n",
    "</div>"
   ]
  },
  {
   "cell_type": "markdown",
   "metadata": {},
   "source": [
    "<div class=\"alert alert-block alert-warning\">\n",
    "<b>Overall reviewer's comment v2</b> <a class=\"tocSkip\"></a>\n",
    "\n",
    "Christopher, I really appreciate the corrections you sent in! Thanks for taking the time to do so.\n",
    "    \n",
    "However, join dataframes part needs a bit more work. Could you take a second glance at it?\n",
    "    \n",
    "If you have troubles with task you can leave comment here or ask you tutor for help =)\n",
    "</div>"
   ]
  },
  {
   "cell_type": "markdown",
   "metadata": {},
   "source": [
    "<div class=\"alert alert-block alert-info\">\n",
    "I agree I just wanted to get the few questions I had answered before I started working on fixing the project. Thank you!\n",
    "</div>"
   ]
  },
  {
   "cell_type": "markdown",
   "metadata": {},
   "source": [
    "<div class=\"alert alert-block alert-success\">\n",
    "<b>Overall reviewer's comment v3</b> <a class=\"tocSkip\"></a>\n",
    "\n",
    "Your corrections look great, you've improved your work significantly!\n",
    "    \n",
    "I'm glad to say that your project has been accepted. Good luck on the next sprint!\n",
    "</div>"
   ]
  },
  {
   "cell_type": "code",
   "execution_count": null,
   "metadata": {},
   "outputs": [],
   "source": []
  }
 ],
 "metadata": {
  "ExecuteTimeLog": [
   {
    "duration": 828,
    "start_time": "2021-11-16T09:21:11.304Z"
   },
   {
    "duration": 893,
    "start_time": "2021-11-16T09:21:17.728Z"
   },
   {
    "duration": 1150,
    "start_time": "2021-11-16T09:21:29.568Z"
   },
   {
    "duration": 3,
    "start_time": "2021-11-16T09:24:14.495Z"
   },
   {
    "duration": 120,
    "start_time": "2021-11-16T09:24:46.630Z"
   },
   {
    "duration": 3,
    "start_time": "2021-11-16T09:28:27.882Z"
   },
   {
    "duration": 4,
    "start_time": "2021-11-16T09:29:54.281Z"
   },
   {
    "duration": 3,
    "start_time": "2021-11-16T09:30:45.936Z"
   },
   {
    "duration": 4,
    "start_time": "2021-11-16T09:31:06.300Z"
   },
   {
    "duration": 113,
    "start_time": "2021-11-16T09:31:37.208Z"
   },
   {
    "duration": 143,
    "start_time": "2021-11-16T09:31:48.656Z"
   },
   {
    "duration": 98,
    "start_time": "2021-11-16T09:31:55.678Z"
   },
   {
    "duration": 3,
    "start_time": "2021-11-16T09:32:08.535Z"
   },
   {
    "duration": 111,
    "start_time": "2021-11-16T09:32:10.120Z"
   },
   {
    "duration": 3,
    "start_time": "2021-11-16T09:32:15.732Z"
   },
   {
    "duration": 4,
    "start_time": "2021-11-16T09:32:29.423Z"
   },
   {
    "duration": 3,
    "start_time": "2021-11-16T10:03:03.074Z"
   },
   {
    "duration": 3,
    "start_time": "2021-11-16T10:10:01.288Z"
   },
   {
    "duration": 3,
    "start_time": "2021-11-16T10:10:46.923Z"
   },
   {
    "duration": 121,
    "start_time": "2021-11-16T10:37:46.494Z"
   },
   {
    "duration": 125,
    "start_time": "2021-11-16T10:38:20.632Z"
   },
   {
    "duration": 112,
    "start_time": "2021-11-16T10:46:53.001Z"
   },
   {
    "duration": 110,
    "start_time": "2021-11-16T10:48:25.775Z"
   },
   {
    "duration": 3,
    "start_time": "2021-11-16T10:50:18.720Z"
   },
   {
    "duration": 4,
    "start_time": "2021-11-16T10:50:37.649Z"
   },
   {
    "duration": 2,
    "start_time": "2021-11-16T10:50:51.884Z"
   },
   {
    "duration": 3,
    "start_time": "2021-11-16T10:51:56.237Z"
   },
   {
    "duration": 101,
    "start_time": "2021-11-16T10:53:13.791Z"
   },
   {
    "duration": 3,
    "start_time": "2021-11-16T10:55:59.186Z"
   },
   {
    "duration": 3,
    "start_time": "2021-11-16T10:56:10.751Z"
   },
   {
    "duration": 3,
    "start_time": "2021-11-16T10:56:49.038Z"
   },
   {
    "duration": 3,
    "start_time": "2021-11-16T10:56:49.174Z"
   },
   {
    "duration": 4,
    "start_time": "2021-11-16T10:56:49.414Z"
   },
   {
    "duration": 3,
    "start_time": "2021-11-16T10:56:49.680Z"
   },
   {
    "duration": 3,
    "start_time": "2021-11-16T10:56:50.370Z"
   },
   {
    "duration": 114,
    "start_time": "2021-11-16T10:59:34.518Z"
   },
   {
    "duration": 3,
    "start_time": "2021-11-16T11:01:41.201Z"
   },
   {
    "duration": 116,
    "start_time": "2021-11-16T11:01:48.754Z"
   },
   {
    "duration": 3,
    "start_time": "2021-11-16T11:02:16.685Z"
   },
   {
    "duration": 3,
    "start_time": "2021-11-16T11:02:19.479Z"
   },
   {
    "duration": 3,
    "start_time": "2021-11-16T11:02:47.067Z"
   },
   {
    "duration": 3,
    "start_time": "2021-11-16T11:02:49.353Z"
   },
   {
    "duration": 3,
    "start_time": "2021-11-16T11:03:07.835Z"
   },
   {
    "duration": 3,
    "start_time": "2021-11-16T11:03:07.953Z"
   },
   {
    "duration": 112,
    "start_time": "2021-11-16T11:07:52.072Z"
   },
   {
    "duration": 187,
    "start_time": "2021-11-16T11:09:23.468Z"
   },
   {
    "duration": 4,
    "start_time": "2021-11-16T11:10:01.455Z"
   },
   {
    "duration": 3,
    "start_time": "2021-11-16T11:10:05.069Z"
   },
   {
    "duration": 4,
    "start_time": "2021-11-16T11:10:13.376Z"
   },
   {
    "duration": 3,
    "start_time": "2021-11-16T11:10:14.434Z"
   },
   {
    "duration": 3,
    "start_time": "2021-11-16T11:10:22.853Z"
   },
   {
    "duration": 4,
    "start_time": "2021-11-16T11:27:29.279Z"
   },
   {
    "duration": 4,
    "start_time": "2021-11-16T11:29:08.919Z"
   },
   {
    "duration": 118,
    "start_time": "2021-11-16T11:29:46.703Z"
   },
   {
    "duration": 437,
    "start_time": "2021-11-16T11:36:02.181Z"
   },
   {
    "duration": 157,
    "start_time": "2021-11-16T11:36:14.388Z"
   },
   {
    "duration": 207,
    "start_time": "2021-11-16T11:47:15.898Z"
   },
   {
    "duration": 3,
    "start_time": "2021-11-16T11:53:52.092Z"
   },
   {
    "duration": 3,
    "start_time": "2021-11-16T11:53:52.236Z"
   },
   {
    "duration": 3,
    "start_time": "2021-11-16T11:59:12.005Z"
   },
   {
    "duration": 112,
    "start_time": "2021-11-16T12:00:33.446Z"
   },
   {
    "duration": 3,
    "start_time": "2021-11-16T12:02:14.453Z"
   },
   {
    "duration": 3,
    "start_time": "2021-11-16T12:02:39.512Z"
   },
   {
    "duration": 106,
    "start_time": "2021-11-16T12:03:03.460Z"
   },
   {
    "duration": 3,
    "start_time": "2021-11-17T20:37:21.139Z"
   },
   {
    "duration": 3,
    "start_time": "2021-11-17T20:37:22.229Z"
   },
   {
    "duration": 3,
    "start_time": "2021-11-17T20:38:38.806Z"
   },
   {
    "duration": 3,
    "start_time": "2021-11-17T20:38:41.958Z"
   },
   {
    "duration": 3,
    "start_time": "2021-11-17T20:43:46.551Z"
   },
   {
    "duration": 4,
    "start_time": "2021-11-17T20:58:21.835Z"
   },
   {
    "duration": 3,
    "start_time": "2021-11-17T20:59:21.872Z"
   },
   {
    "duration": 4,
    "start_time": "2021-11-17T20:59:45.352Z"
   },
   {
    "duration": 4,
    "start_time": "2021-11-17T20:59:49.646Z"
   },
   {
    "duration": 159,
    "start_time": "2021-11-17T21:02:26.949Z"
   },
   {
    "duration": 3,
    "start_time": "2021-11-17T21:03:53.461Z"
   },
   {
    "duration": 3,
    "start_time": "2021-11-17T21:03:53.694Z"
   },
   {
    "duration": 3,
    "start_time": "2021-11-17T21:05:28.145Z"
   },
   {
    "duration": 116,
    "start_time": "2021-11-17T21:05:57.787Z"
   },
   {
    "duration": 3,
    "start_time": "2021-11-17T21:06:37.993Z"
   },
   {
    "duration": 3,
    "start_time": "2021-11-17T21:06:38.261Z"
   },
   {
    "duration": 3,
    "start_time": "2021-11-17T21:11:54.358Z"
   },
   {
    "duration": 3,
    "start_time": "2021-11-17T21:12:43.846Z"
   },
   {
    "duration": 4,
    "start_time": "2021-11-17T21:13:08.773Z"
   },
   {
    "duration": 3,
    "start_time": "2021-11-17T21:14:44.441Z"
   },
   {
    "duration": 3,
    "start_time": "2021-11-17T21:15:42.059Z"
   },
   {
    "duration": 4,
    "start_time": "2021-11-17T21:15:51.995Z"
   },
   {
    "duration": 3,
    "start_time": "2021-11-17T21:15:53.923Z"
   },
   {
    "duration": 3,
    "start_time": "2021-11-17T21:15:55.282Z"
   },
   {
    "duration": 3,
    "start_time": "2021-11-17T21:16:28.492Z"
   },
   {
    "duration": 3,
    "start_time": "2021-11-17T21:16:32.603Z"
   },
   {
    "duration": 3,
    "start_time": "2021-11-17T21:17:06.941Z"
   },
   {
    "duration": 98,
    "start_time": "2021-11-17T21:18:05.733Z"
   },
   {
    "duration": 4,
    "start_time": "2021-11-17T21:21:35.255Z"
   },
   {
    "duration": 3,
    "start_time": "2021-11-17T21:21:37.804Z"
   },
   {
    "duration": 4,
    "start_time": "2021-11-17T21:23:06.071Z"
   },
   {
    "duration": 3,
    "start_time": "2021-11-17T21:23:24.799Z"
   },
   {
    "duration": 3,
    "start_time": "2021-11-17T21:23:32.591Z"
   },
   {
    "duration": 98,
    "start_time": "2021-11-17T21:28:31.559Z"
   },
   {
    "duration": 3,
    "start_time": "2021-11-17T21:28:45.448Z"
   },
   {
    "duration": 3,
    "start_time": "2021-11-17T21:29:17.303Z"
   },
   {
    "duration": 3,
    "start_time": "2021-11-17T21:29:29.617Z"
   },
   {
    "duration": 3,
    "start_time": "2021-11-17T21:29:32.681Z"
   },
   {
    "duration": 3,
    "start_time": "2021-11-17T21:36:11.474Z"
   },
   {
    "duration": 3,
    "start_time": "2021-11-17T21:36:14.791Z"
   },
   {
    "duration": 3,
    "start_time": "2021-11-17T21:36:53.943Z"
   },
   {
    "duration": 3,
    "start_time": "2021-11-17T21:36:56.165Z"
   },
   {
    "duration": 4,
    "start_time": "2021-11-17T21:37:16.590Z"
   },
   {
    "duration": 3,
    "start_time": "2021-11-17T21:37:22.702Z"
   },
   {
    "duration": 4,
    "start_time": "2021-11-17T21:38:03.479Z"
   },
   {
    "duration": 3,
    "start_time": "2021-11-17T21:38:08.601Z"
   },
   {
    "duration": 3,
    "start_time": "2021-11-17T21:38:12.928Z"
   },
   {
    "duration": 3,
    "start_time": "2021-11-17T21:38:48.896Z"
   },
   {
    "duration": 2,
    "start_time": "2021-11-17T21:38:49.171Z"
   },
   {
    "duration": 4,
    "start_time": "2021-11-17T21:39:57.889Z"
   },
   {
    "duration": 3,
    "start_time": "2021-11-17T21:39:58.057Z"
   },
   {
    "duration": 3,
    "start_time": "2021-11-17T21:41:20.108Z"
   },
   {
    "duration": 3,
    "start_time": "2021-11-17T21:41:20.629Z"
   },
   {
    "duration": 3,
    "start_time": "2021-11-17T21:42:49.136Z"
   },
   {
    "duration": 3,
    "start_time": "2021-11-17T21:43:15.137Z"
   },
   {
    "duration": 4,
    "start_time": "2021-11-17T21:43:16.766Z"
   },
   {
    "duration": 4,
    "start_time": "2021-11-17T21:43:31.711Z"
   },
   {
    "duration": 3,
    "start_time": "2021-11-17T21:43:36.312Z"
   },
   {
    "duration": 4,
    "start_time": "2021-11-17T21:45:08.825Z"
   },
   {
    "duration": 4,
    "start_time": "2021-11-17T21:45:10.119Z"
   },
   {
    "duration": 4,
    "start_time": "2021-11-17T21:45:13.748Z"
   },
   {
    "duration": 3,
    "start_time": "2021-11-17T21:45:22.219Z"
   },
   {
    "duration": 3,
    "start_time": "2021-11-17T21:45:33.412Z"
   },
   {
    "duration": 2,
    "start_time": "2021-11-17T21:46:01.885Z"
   },
   {
    "duration": 3,
    "start_time": "2021-11-17T21:46:03.628Z"
   },
   {
    "duration": 107,
    "start_time": "2021-11-17T21:47:32.512Z"
   },
   {
    "duration": 103,
    "start_time": "2021-11-17T21:50:36.243Z"
   },
   {
    "duration": 3,
    "start_time": "2021-11-18T06:28:31.440Z"
   },
   {
    "duration": 3,
    "start_time": "2021-11-18T06:29:00.168Z"
   },
   {
    "duration": 3,
    "start_time": "2021-11-18T06:31:27.008Z"
   },
   {
    "duration": 2,
    "start_time": "2021-11-18T06:35:34.288Z"
   },
   {
    "duration": 2,
    "start_time": "2021-11-18T06:38:04.527Z"
   }
  ],
  "kernelspec": {
   "display_name": "Python 3 (ipykernel)",
   "language": "python",
   "name": "python3"
  },
  "language_info": {
   "codemirror_mode": {
    "name": "ipython",
    "version": 3
   },
   "file_extension": ".py",
   "mimetype": "text/x-python",
   "name": "python",
   "nbconvert_exporter": "python",
   "pygments_lexer": "ipython3",
   "version": "3.9.5"
  },
  "toc": {
   "base_numbering": 1,
   "nav_menu": {},
   "number_sections": true,
   "sideBar": true,
   "skip_h1_title": false,
   "title_cell": "Table of Contents",
   "title_sidebar": "Contents",
   "toc_cell": false,
   "toc_position": {},
   "toc_section_display": true,
   "toc_window_display": false
  }
 },
 "nbformat": 4,
 "nbformat_minor": 2
}
